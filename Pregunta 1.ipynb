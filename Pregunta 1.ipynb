{
 "cells": [
  {
   "cell_type": "markdown",
   "metadata": {},
   "source": [
    "# Tarea 2, pregunta 1: \"RNN sobre texto\"\n",
    "\n",
    "## Integrantes\n",
    "\n",
    "* _**Francisco Olivares - 201473575-8 - fracisco.olivars.14@sansano.usm.cl**_\n",
    "* _**Felipe Vega - 201473511-1 - felipe.vega.14@sansano.usm.cl**_"
   ]
  },
  {
   "cell_type": "code",
   "execution_count": 75,
   "metadata": {},
   "outputs": [
    {
     "data": {
      "text/html": [
       "<style>.container { width:95% !important; }</style>"
      ],
      "text/plain": [
       "<IPython.core.display.HTML object>"
      ]
     },
     "metadata": {},
     "output_type": "display_data"
    },
    {
     "data": {
      "text/html": [
       "<style>.text_cell_render p, .text_cell_render li { font-size: 12.5pt !important; }</style>"
      ],
      "text/plain": [
       "<IPython.core.display.HTML object>"
      ]
     },
     "metadata": {},
     "output_type": "display_data"
    },
    {
     "data": {
      "text/html": [
       "<style>.text_cell_render li { margin: 0 0 10px 0; }</style>"
      ],
      "text/plain": [
       "<IPython.core.display.HTML object>"
      ]
     },
     "metadata": {},
     "output_type": "display_data"
    }
   ],
   "source": [
    "#Librerías\n",
    "import pandas as pd\n",
    "import numpy as np\n",
    "import matplotlib.pyplot as plt\n",
    "\n",
    "# Tamaño fuente matplotlib\n",
    "font = {'family' : 'normal', 'weight' : 'normal', 'size'   : 14}\n",
    "import matplotlib\n",
    "matplotlib.rc('font', **font)\n",
    "\n",
    "# Tensorflow GPU stuff :v\n",
    "import tensorflow as tf\n",
    "config = tf.ConfigProto()\n",
    "config.gpu_options.allow_growth=True\n",
    "sess = tf.Session(config=config)\n",
    "\n",
    "# Modificar estilos de jupyter\n",
    "from IPython.display import IFrame\n",
    "from IPython.core.display import display, HTML\n",
    "display(HTML(\"<style>.container { width:95% !important; }</style>\"))\n",
    "display(HTML(\"<style>.text_cell_render p, .text_cell_render li { font-size: 12.5pt !important; }</style>\"))\n",
    "display(HTML(\"<style>.text_cell_render li { margin: 0 0 10px 0; }</style>\"))"
   ]
  },
  {
   "cell_type": "markdown",
   "metadata": {},
   "source": [
    "## a)"
   ]
  },
  {
   "cell_type": "code",
   "execution_count": 76,
   "metadata": {},
   "outputs": [
    {
     "name": "stderr",
     "output_type": "stream",
     "text": [
      "b'Skipping line 281837: expected 25 fields, saw 34\\n'\n"
     ]
    }
   ],
   "source": [
    "df_ner = pd.read_csv(\"./dataset_1/ner.csv\", encoding =\"cp1252\", error_bad_lines=False)\n",
    "df_ner.dropna(inplace=True)"
   ]
  },
  {
   "cell_type": "code",
   "execution_count": 77,
   "metadata": {},
   "outputs": [],
   "source": [
    "dataset = df_ner.loc[:,[\"lemma\",\"word\",\"pos\",\"tag\",\"prev-iob\"]]\n",
    "\n",
    "# Cantidad de lapabras a utilizar\n",
    "n_used = 500000\n",
    "dataX_raw, dataY_raw = [],[]\n",
    "lemmas, labels = set(), set()  #uniques\n",
    "\n",
    "initial_sentence = True\n",
    "sentence= []\n",
    "labels_sentence = []\n",
    "\n",
    "for fila in dataset.values[:n_used]:\n",
    "    if fila[-1]==\"__START1__\":\n",
    "        \n",
    "        \n",
    "        if initial_sentence:\n",
    "            initial_sentence = False\n",
    "            \n",
    "        else:\n",
    "            dataX_raw.append(sentence)\n",
    "            dataY_raw.append(labels_sentence)\n",
    "            sentence= []\n",
    "            labels_sentence = []\n",
    "        \n",
    "    lemmas.add(fila[0])\n",
    "    labels.add(fila[3])\n",
    "    \n",
    "    sentence.append(fila[0]) #add lemma\n",
    "    labels_sentence.append(fila[3]) #TAG\n",
    "    \n",
    "# dataX_raw = dataX_raw[1:]\n",
    "# dataY_raw = dataY_raw[1:]"
   ]
  },
  {
   "cell_type": "code",
   "execution_count": 78,
   "metadata": {},
   "outputs": [
    {
     "name": "stdout",
     "output_type": "stream",
     "text": [
      "Cantidad de frases: 22901\n",
      "Cantidad de tags: 22901\n",
      "Sentencia más corta: 1, más larga: 70, largos distintos: 62\n",
      "Tags más corta: 1, más larga: 70, largos distintos: 62\n"
     ]
    }
   ],
   "source": [
    "print(\"Cantidad de frases:\", len(dataX_raw))\n",
    "print(\"Cantidad de tags:\", len(dataY_raw))\n",
    "\n",
    "\n",
    "len_of_sentence = set([len(i) for i in dataX_raw])\n",
    "len_of_tags = set([len(i) for i in dataY_raw])\n",
    "\n",
    "print(\"Sentencia más corta: {}, más larga: {}, largos distintos: {}\".format(min(len_of_sentence), max(len_of_sentence), len(len_of_sentence)))\n",
    "print(\"Tags más corta: {}, más larga: {}, largos distintos: {}\".format(min(len_of_tags), max(len_of_tags), len(len_of_tags)))"
   ]
  },
  {
   "cell_type": "markdown",
   "metadata": {},
   "source": [
    "## b)\n",
    "Estudie la distribución del largo de los textos a procesar. Estudie también la frecuencia con la que aparecen las palabras en todo el dataset. **¿Se observa una ley Zipf?**[[1]](#refs) Realice un gráfico de la cantidad de datos por clase. Comente."
   ]
  },
  {
   "cell_type": "code",
   "execution_count": 79,
   "metadata": {},
   "outputs": [
    {
     "data": {
      "image/png": "[encoded data removed]",
      "text/plain": [
       "<Figure size 1800x360 with 1 Axes>"
      ]
     },
     "metadata": {
      "needs_background": "light"
     },
     "output_type": "display_data"
    }
   ],
   "source": [
    "len_of_sentence = [len(i) for i in dataX_raw]\n",
    "plt.figure(figsize = (25,5))\n",
    "\n",
    "plt.hist(len_of_sentence)\n",
    "\n",
    "plt.xlabel(\"Largo de la frase\")\n",
    "plt.ylabel(\"Frecuencia\")\n",
    "\n",
    "plt.show()"
   ]
  },
  {
   "cell_type": "code",
   "execution_count": 80,
   "metadata": {},
   "outputs": [],
   "source": [
    "freq_of_words = {}\n",
    "\n",
    "for fila in dataset.values[:]:# dataset.values[:n_used]:\n",
    "    if fila[0] not in freq_of_words:\n",
    "        freq_of_words[fila[0]] = 0\n",
    "    freq_of_words[fila[0]]+=1\n",
    "    \n",
    "a = [ (freq_of_words[i], i) for i in freq_of_words]\n",
    "a.sort(reverse=True)\n",
    "# top_15 = a[:40]"
   ]
  },
  {
   "cell_type": "code",
   "execution_count": 82,
   "metadata": {},
   "outputs": [
    {
     "data": {
      "image/png": "[encoded data removed]",
      "text/plain": [
       "<Figure size 1800x360 with 1 Axes>"
      ]
     },
     "metadata": {
      "needs_background": "light"
     },
     "output_type": "display_data"
    }
   ],
   "source": [
    "# Voy a transformar el arreglo top_15 para que sea graficable\n",
    "X = []\n",
    "Y = []\n",
    "\n",
    "for i in range(len(a)): #range(len(top_15)):\n",
    "    tupla = a[i] # top_15[i]\n",
    "    Y.append( np.log(tupla[0]) )\n",
    "    X.append( np.log(i+1) )\n",
    "    legends.append( tupla[1] )\n",
    "\n",
    "plt.figure(figsize = (25,5))\n",
    "\n",
    "plt.plot(X, Y, '.-')\n",
    "\n",
    "plt.xlabel(\"$\\log(Ranking)$\")\n",
    "plt.ylabel(\"$\\log(Frecuencia)$\")\n",
    "\n",
    "plt.show()"
   ]
  },
  {
   "cell_type": "markdown",
   "metadata": {},
   "source": [
    "## c)\n",
    "Para representar cada posible *tag* y *lemma* de modo que la red pueda manejarlo, será necesario codificarlos a un número único (*indice*) ¿Cuántos *tags* y *lemmas* distintos existen?  Comente sobre el significado del *tag* para cada *lemma*. **Finalmente mida el largo máximo de entre todas las sentencias**."
   ]
  },
  {
   "cell_type": "code",
   "execution_count": 83,
   "metadata": {},
   "outputs": [],
   "source": [
    "n_labels = len(labels)\n",
    "lab2idx = {t: i for i, t in enumerate(labels)}\n",
    "dataY = [[lab2idx[ner] for ner in ner_tags ] for ner_tags in dataY_raw] #Converting tags to indexs\n",
    "\n",
    "n_lemmas = len(lemmas)\n",
    "lemma2idx = {w: i for i, w in enumerate(lemmas)} \n",
    "dataX = [[lemma2idx[lemma] for lemma in sentence ] for sentence in dataX_raw] #Converting text to indexs"
   ]
  },
  {
   "cell_type": "code",
   "execution_count": 85,
   "metadata": {},
   "outputs": [
    {
     "name": "stdout",
     "output_type": "stream",
     "text": [
      "Cantidad de tags distintos:  17\n",
      "Cantidad de lemmas distintos:  12450\n"
     ]
    }
   ],
   "source": [
    "print(\"Cantidad de tags distintos: \", n_labels)\n",
    "print(\"Cantidad de lemmas distintos: \", n_lemmas)"
   ]
  },
  {
   "cell_type": "markdown",
   "metadata": {},
   "source": [
    "Hay 17 tags distintos, 12450 lemmas distintos. La sentencia más larga dentro del caso de estudio (primeras 500000 palabras) es de 70 palabras (ver pregunta **a**)."
   ]
  },
  {
   "cell_type": "markdown",
   "metadata": {},
   "source": [
    "## d)\n",
    "Debido a la distinta extensión de textos se deberá realizar padding para estandarizar el largo, considere algun carácter especial no presente en el vocabulario para codificar el espacio en blanco en ambos (entrada y salida), por ejemplo si el largo máximo es de 4 y se tiene la sentencia \"the rocket\" codificada como [32,4] será necesario agregar un lemma que codificado significará el fin de la sentencia \"the rocket ENDPAD ENDPAD\" que codificado quedará como [32,4,N, N]. Decida, respecto al cómo funciona una red recurrente y su memoria, sobre qué le parece más conveniente al momento de rellenar con un valor especial ¿Al principio o al final de la sentencia? Comente"
   ]
  }
 ],
 "metadata": {
  "kernelspec": {
   "display_name": "Python 3",
   "language": "python",
   "name": "python3"
  },
  "language_info": {
   "codemirror_mode": {
    "name": "ipython",
    "version": 3
   },
   "file_extension": ".py",
   "mimetype": "text/x-python",
   "name": "python",
   "nbconvert_exporter": "python",
   "pygments_lexer": "ipython3",
   "version": "3.6.8"
  }
 },
 "nbformat": 4,
 "nbformat_minor": 2
}
