{
 "cells": [
  {
   "cell_type": "markdown",
   "metadata": {},
   "source": [
    "# Tarea 2, pregunta 1: \"RNN sobre texto\"\n",
    "\n",
    "## Integrantes\n",
    "\n",
    "* _**Francisco Olivares - 201473575-8 - fracisco.olivars.14@sansano.usm.cl**_\n",
    "* _**Felipe Vega - 201473511-1 - felipe.vega.14@sansano.usm.cl**_"
   ]
  },
  {
   "cell_type": "code",
   "execution_count": 2,
   "metadata": {},
   "outputs": [
    {
     "data": {
      "text/html": [
       "<style>.container { width:95% !important; }</style>"
      ],
      "text/plain": [
       "<IPython.core.display.HTML object>"
      ]
     },
     "metadata": {},
     "output_type": "display_data"
    },
    {
     "data": {
      "text/html": [
       "<style>.text_cell_render p, .text_cell_render li { font-size: 12.5pt !important; }</style>"
      ],
      "text/plain": [
       "<IPython.core.display.HTML object>"
      ]
     },
     "metadata": {},
     "output_type": "display_data"
    },
    {
     "data": {
      "text/html": [
       "<style>.text_cell_render li { margin: 0 0 10px 0; }</style>"
      ],
      "text/plain": [
       "<IPython.core.display.HTML object>"
      ]
     },
     "metadata": {},
     "output_type": "display_data"
    }
   ],
   "source": [
    "#Librerías\n",
    "import pandas as pd\n",
    "import numpy as np\n",
    "import matplotlib.pyplot as plt\n",
    "\n",
    "# Tensorflow GPU stuff :v\n",
    "import tensorflow as tf\n",
    "config = tf.ConfigProto()\n",
    "config.gpu_options.allow_growth=True\n",
    "sess = tf.Session(config=config)\n",
    "\n",
    "# Modificar estilos de jupyter\n",
    "from IPython.display import IFrame\n",
    "from IPython.core.display import display, HTML\n",
    "display(HTML(\"<style>.container { width:95% !important; }</style>\"))\n",
    "display(HTML(\"<style>.text_cell_render p, .text_cell_render li { font-size: 12.5pt !important; }</style>\"))\n",
    "display(HTML(\"<style>.text_cell_render li { margin: 0 0 10px 0; }</style>\"))"
   ]
  },
  {
   "cell_type": "markdown",
   "metadata": {},
   "source": [
    "## a)"
   ]
  },
  {
   "cell_type": "code",
   "execution_count": 4,
   "metadata": {},
   "outputs": [
    {
     "name": "stderr",
     "output_type": "stream",
     "text": [
      "b'Skipping line 281837: expected 25 fields, saw 34\\n'\n"
     ]
    }
   ],
   "source": [
    "df_ner = pd.read_csv(\"./dataset_1/ner.csv\", encoding =\"cp1252\", error_bad_lines=False)\n",
    "df_ner.dropna(inplace=True)"
   ]
  },
  {
   "cell_type": "code",
   "execution_count": 12,
   "metadata": {},
   "outputs": [],
   "source": [
    "dataset = df_ner.loc[:,[\"lemma\",\"word\",\"pos\",\"tag\",\"prev-iob\"]]\n",
    "\n",
    "# Cantidad de lapabras a utilizar\n",
    "n_used = 500000\n",
    "dataX_raw, dataY_raw = [],[]\n",
    "lemmas, labels = set(), set()  #uniques\n",
    "\n",
    "initial_sentence = True\n",
    "sentence= []\n",
    "labels_sentence = []\n",
    "\n",
    "for fila in dataset.values[:n_used]:\n",
    "    if fila[-1]==\"__START1__\":\n",
    "        \n",
    "        \n",
    "        if initial_sentence:\n",
    "            initial_sentence = False\n",
    "            \n",
    "        else:\n",
    "            dataX_raw.append(sentence)\n",
    "            dataY_raw.append(labels_sentence)\n",
    "            sentence= []\n",
    "            labels_sentence = []\n",
    "        \n",
    "    lemmas.add(fila[0])\n",
    "    labels.add(fila[3])\n",
    "    \n",
    "    sentence.append(fila[0]) #add lemma\n",
    "    labels_sentence.append(fila[3]) #TAG\n",
    "    \n",
    "# dataX_raw = dataX_raw[1:]\n",
    "# dataY_raw = dataY_raw[1:]"
   ]
  },
  {
   "cell_type": "code",
   "execution_count": 21,
   "metadata": {},
   "outputs": [
    {
     "name": "stdout",
     "output_type": "stream",
     "text": [
      "Cantidad de frases: 22901\n",
      "Cantidad de tags: 22901\n",
      "Sentencia más corta: 1, más larga: 70, largos distintos: 62\n",
      "Sentencia más corta: 1, más larga: 70, largos distintos: 62\n"
     ]
    }
   ],
   "source": [
    "print(\"Cantidad de frases:\", len(dataX_raw))\n",
    "print(\"Cantidad de tags:\", len(dataY_raw))\n",
    "\n",
    "\n",
    "len_of_sentence = set([len(i) for i in dataX_raw])\n",
    "len_of_tags = set([len(i) for i in dataY_raw])\n",
    "\n",
    "print(\"Sentencia más corta: {}, más larga: {}, largos distintos: {}\".format(min(len_of_sentence), max(len_of_sentence), len(len_of_sentence)))\n",
    "print(\"Sentencia más corta: {}, más larga: {}, largos distintos: {}\".format(min(len_of_tags), max(len_of_tags), len(len_of_tags)))"
   ]
  }
 ],
 "metadata": {
  "kernelspec": {
   "display_name": "Python 3",
   "language": "python",
   "name": "python3"
  },
  "language_info": {
   "codemirror_mode": {
    "name": "ipython",
    "version": 3
   },
   "file_extension": ".py",
   "mimetype": "text/x-python",
   "name": "python",
   "nbconvert_exporter": "python",
   "pygments_lexer": "ipython3",
   "version": "3.6.8"
  }
 },
 "nbformat": 4,
 "nbformat_minor": 2
}
