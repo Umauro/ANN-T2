{
 "cells": [
  {
   "cell_type": "markdown",
   "metadata": {},
   "source": [
    "# Tarea 2, pregunta 1: \"RNN sobre texto\"\n",
    "\n",
    "## Integrantes\n",
    "\n",
    "* _**Francisco Olivares - 201473575-8 - fracisco.olivars.14@sansano.usm.cl**_\n",
    "* _**Felipe Vega - 201473511-1 - felipe.vega.14@sansano.usm.cl**_"
   ]
  },
  {
   "cell_type": "code",
   "execution_count": 1,
   "metadata": {},
   "outputs": [
    {
     "data": {
      "text/html": [
       "<style>.container { width:95% !important; }</style>"
      ],
      "text/plain": [
       "<IPython.core.display.HTML object>"
      ]
     },
     "metadata": {},
     "output_type": "display_data"
    },
    {
     "data": {
      "text/html": [
       "<style>.text_cell_render p, .text_cell_render li { font-size: 12.5pt !important; }</style>"
      ],
      "text/plain": [
       "<IPython.core.display.HTML object>"
      ]
     },
     "metadata": {},
     "output_type": "display_data"
    },
    {
     "data": {
      "text/html": [
       "<style>.text_cell_render li { margin: 0 0 10px 0; }</style>"
      ],
      "text/plain": [
       "<IPython.core.display.HTML object>"
      ]
     },
     "metadata": {},
     "output_type": "display_data"
    }
   ],
   "source": [
    "#Librerías\n",
    "import pandas as pd\n",
    "import numpy as np\n",
    "import matplotlib.pyplot as plt\n",
    "\n",
    "# Tensorflow GPU stuff :v\n",
    "import tensorflow as tf\n",
    "config = tf.ConfigProto()\n",
    "config.gpu_options.allow_growth=True\n",
    "sess = tf.Session(config=config)\n",
    "\n",
    "# Modificar estilos de jupyter\n",
    "from IPython.display import IFrame\n",
    "from IPython.core.display import display, HTML\n",
    "display(HTML(\"<style>.container { width:95% !important; }</style>\"))\n",
    "display(HTML(\"<style>.text_cell_render p, .text_cell_render li { font-size: 12.5pt !important; }</style>\"))\n",
    "display(HTML(\"<style>.text_cell_render li { margin: 0 0 10px 0; }</style>\"))\n",
    "\n",
    "# Tamaño fuente matplotlib\n",
    "font = {'family' : 'normal', 'weight' : 'normal', 'size'   : 14}\n",
    "import matplotlib\n",
    "matplotlib.rc('font', **font)"
   ]
  },
  {
   "cell_type": "markdown",
   "metadata": {},
   "source": [
    "## a)"
   ]
  },
  {
   "cell_type": "code",
   "execution_count": 2,
   "metadata": {},
   "outputs": [
    {
     "name": "stderr",
     "output_type": "stream",
     "text": [
      "b'Skipping line 281837: expected 25 fields, saw 34\\n'\n"
     ]
    }
   ],
   "source": [
    "df_ner = pd.read_csv(\"./dataset_1/ner.csv\", encoding =\"cp1252\", error_bad_lines=False)\n",
    "df_ner.dropna(inplace=True)"
   ]
  },
  {
   "cell_type": "code",
   "execution_count": 3,
   "metadata": {},
   "outputs": [],
   "source": [
    "dataset = df_ner.loc[:,[\"lemma\",\"word\",\"pos\",\"tag\",\"prev-iob\"]]\n",
    "\n",
    "# Cantidad de lapabras a utilizar\n",
    "n_used = 500000\n",
    "dataX_raw, dataY_raw = [],[]\n",
    "lemmas, labels = set(), set()  #uniques\n",
    "\n",
    "initial_sentence = True\n",
    "sentence= []\n",
    "labels_sentence = []\n",
    "\n",
    "for fila in dataset.values[:n_used]:\n",
    "    if fila[-1]==\"__START1__\":\n",
    "        \n",
    "        \n",
    "        if initial_sentence:\n",
    "            initial_sentence = False\n",
    "            \n",
    "        else:\n",
    "            dataX_raw.append(sentence)\n",
    "            dataY_raw.append(labels_sentence)\n",
    "            sentence= []\n",
    "            labels_sentence = []\n",
    "        \n",
    "    lemmas.add(fila[0])\n",
    "    labels.add(fila[3])\n",
    "    \n",
    "    sentence.append(fila[0]) #add lemma\n",
    "    labels_sentence.append(fila[3]) #TAG\n",
    "    \n",
    "# dataX_raw = dataX_raw[1:]\n",
    "# dataY_raw = dataY_raw[1:]"
   ]
  },
  {
   "cell_type": "code",
   "execution_count": 4,
   "metadata": {},
   "outputs": [
    {
     "name": "stdout",
     "output_type": "stream",
     "text": [
      "Cantidad de frases: 22901\n",
      "Cantidad de tags: 22901\n",
      "Sentencia más corta: 1, más larga: 70, largos distintos: 62\n",
      "Tags más corta: 1, más larga: 70, largos distintos: 62\n"
     ]
    }
   ],
   "source": [
    "print(\"Cantidad de frases:\", len(dataX_raw))\n",
    "print(\"Cantidad de tags:\", len(dataY_raw))\n",
    "\n",
    "\n",
    "len_of_sentence = set([len(i) for i in dataX_raw])\n",
    "len_of_tags = set([len(i) for i in dataY_raw])\n",
    "\n",
    "print(\"Sentencia más corta: {}, más larga: {}, largos distintos: {}\".format(min(len_of_sentence), max(len_of_sentence), len(len_of_sentence)))\n",
    "print(\"Tags más corta: {}, más larga: {}, largos distintos: {}\".format(min(len_of_tags), max(len_of_tags), len(len_of_tags)))"
   ]
  },
  {
   "cell_type": "markdown",
   "metadata": {},
   "source": [
    "## b)\n",
    "Estudie la distribución del largo de los textos a procesar. Estudie también la frecuencia con la que aparecen las palabras en todo el dataset. **¿Se observa una ley Zipf?**[[1]](#refs) Realice un gráfico de la cantidad de datos por clase. Comente."
   ]
  },
  {
   "cell_type": "code",
   "execution_count": 5,
   "metadata": {},
   "outputs": [
    {
     "name": "stderr",
     "output_type": "stream",
     "text": [
      "/home/francisco/anaconda3/envs/redesneuronales/lib/python3.6/site-packages/matplotlib/font_manager.py:1241: UserWarning: findfont: Font family ['normal'] not found. Falling back to DejaVu Sans.\n",
      "  (prop.get_family(), self.defaultFamily[fontext]))\n"
     ]
    },
    {
     "data": {
      "image/png": "[encoded data removed]",
      "text/plain": [
       "<Figure size 1800x360 with 1 Axes>"
      ]
     },
     "metadata": {
      "needs_background": "light"
     },
     "output_type": "display_data"
    }
   ],
   "source": [
    "len_of_sentence = [len(i) for i in dataX_raw]\n",
    "plt.figure(figsize = (25,5))\n",
    "\n",
    "plt.hist(len_of_sentence)\n",
    "\n",
    "plt.xlabel(\"Largo de la frase\")\n",
    "plt.ylabel(\"Frecuencia\")\n",
    "\n",
    "plt.show()"
   ]
  },
  {
   "cell_type": "code",
   "execution_count": 6,
   "metadata": {},
   "outputs": [],
   "source": [
    "freq_of_words = {}\n",
    "\n",
    "for fila in dataset.values[:]:# dataset.values[:n_used]:\n",
    "    if fila[0] not in freq_of_words:\n",
    "        freq_of_words[fila[0]] = 0\n",
    "    freq_of_words[fila[0]]+=1\n",
    "    \n",
    "a = [ (freq_of_words[i], i) for i in freq_of_words]\n",
    "a.sort(reverse=True)\n",
    "# top_15 = a[:40]"
   ]
  },
  {
   "cell_type": "code",
   "execution_count": 46,
   "metadata": {},
   "outputs": [
    {
     "data": {
      "image/png": "[encoded data removed]",
      "text/plain": [
       "<Figure size 1800x360 with 1 Axes>"
      ]
     },
     "metadata": {
      "needs_background": "light"
     },
     "output_type": "display_data"
    }
   ],
   "source": [
    "# Voy a transformar el arreglo top_15 para que sea graficable\n",
    "X = []\n",
    "Y = []\n",
    "\n",
    "for i in range(len(a)): #range(len(top_15)):\n",
    "    tupla = a[i] # top_15[i]\n",
    "    Y.append( np.log(tupla[0]) )\n",
    "    X.append( np.log(i+1) )\n",
    "\n",
    "plt.figure(figsize = (25,5))\n",
    "\n",
    "plt.plot(X, Y, '.-')\n",
    "\n",
    "plt.xlabel(\"$\\log(Ranking)$\")\n",
    "plt.ylabel(\"$\\log(Frecuencia)$\")\n",
    "\n",
    "plt.show()"
   ]
  },
  {
   "cell_type": "markdown",
   "metadata": {},
   "source": [
    "## c)\n",
    "Para representar cada posible *tag* y *lemma* de modo que la red pueda manejarlo, será necesario codificarlos a un número único (*indice*) ¿Cuántos *tags* y *lemmas* distintos existen?  Comente sobre el significado del *tag* para cada *lemma*. **Finalmente mida el largo máximo de entre todas las sentencias**."
   ]
  },
  {
   "cell_type": "code",
   "execution_count": 9,
   "metadata": {},
   "outputs": [],
   "source": [
    "n_labels = len(labels)\n",
    "lab2idx = {t: i for i, t in enumerate(labels)}\n",
    "dataY = [[lab2idx[ner] for ner in ner_tags ] for ner_tags in dataY_raw] #Converting tags to indexs\n",
    "\n",
    "n_lemmas = len(lemmas)\n",
    "lemma2idx = {w: i for i, w in enumerate(lemmas)} \n",
    "dataX = [[lemma2idx[lemma] for lemma in sentence ] for sentence in dataX_raw] #Converting text to indexs"
   ]
  },
  {
   "cell_type": "code",
   "execution_count": 10,
   "metadata": {},
   "outputs": [
    {
     "name": "stdout",
     "output_type": "stream",
     "text": [
      "Cantidad de tags distintos:  17\n",
      "Cantidad de lemmas distintos:  12450\n"
     ]
    }
   ],
   "source": [
    "print(\"Cantidad de tags distintos: \", n_labels)\n",
    "print(\"Cantidad de lemmas distintos: \", n_lemmas)"
   ]
  },
  {
   "cell_type": "markdown",
   "metadata": {},
   "source": [
    "Hay 17 tags distintos, 12450 lemmas distintos. La sentencia más larga dentro del caso de estudio (primeras 500000 palabras) es de 70 palabras (ver pregunta **a**)."
   ]
  },
  {
   "cell_type": "markdown",
   "metadata": {},
   "source": [
    "## d)\n",
    "Debido a la distinta extensión de textos se deberá **realizar *padding* para estandarizar el largo**,\n",
    "considere algun carácter especial **no presente en el vocabulario** para codificar el espacio en blanco en ambos (entrada y salida), por ejemplo si el largo máximo es de 4 y se tiene la sentencia \"the rocket\" codificada como [32,4] será necesario agregar un *lemma* que codificado significará el fin de la sentencia \"the rocket *ENDPAD ENDPAD*\" que codificado quedará como [32,4,*N, N*]. Decida, respecto al cómo funciona una red recurrente y su *memoria*, sobre qué le parece más conveniente al momento de rellenar con un valor especial ¿Al principio o al final de la sentencia? Comente"
   ]
  },
  {
   "cell_type": "code",
   "execution_count": 11,
   "metadata": {},
   "outputs": [
    {
     "name": "stderr",
     "output_type": "stream",
     "text": [
      "Using TensorFlow backend.\n"
     ]
    }
   ],
   "source": [
    "# Se le asigna el último número a los caracteres de padding\n",
    "lemma2idx[\"END\"] = n_lemmas\n",
    "lab2idx[\"END\"] = n_labels\n",
    "n_labels +=1\n",
    "n_lemmas +=1\n",
    "\n",
    "from keras.preprocessing import sequence\n",
    "X = sequence.pad_sequences(dataX, maxlen=max(len_of_sentence), padding='pre', value=lemma2idx[\"END\"])\n",
    "y = sequence.pad_sequences(dataY, maxlen=max(len_of_tags), padding='pre', value=lab2idx[\"END\"])\n",
    "del dataY[:],dataX[:]"
   ]
  },
  {
   "cell_type": "markdown",
   "metadata": {},
   "source": [
    "Se elige utilizar pre-pading ya que en el paper *\"Effects of padding on LSTMS and CNNS \"* [[1]](#referencias) se muestra empiricamente que al ocupar pre padding hay un mejor desempeño."
   ]
  },
  {
   "cell_type": "markdown",
   "metadata": {},
   "source": [
    "## e)\n",
    "Para poder generar una representación adecuada sobre los datos de entrada que permita realizar operaciones lineales, deberá generar una representación a un vector denso. Para ésto se utilizará la arquitectura de autoencoder **Word2Vec** sobre textos *raws* de largo variable, en donde el *encoder* codifica una palabra categórica (*target*) a un vector denso de dimensionalidad $d$ mientras que el *decoder* genera palabras en el contexto (*context*) de la palabra *target* (en una vecindad alrededor). La idea detrás es que palabras similares sean proyectadas a una región cercana en el espacio de *embedding* ¿Cuál es la importancia del parámetro min_count? ¿Cuántos *lemmas* ve Word2Vec?"
   ]
  },
  {
   "cell_type": "code",
   "execution_count": 21,
   "metadata": {},
   "outputs": [
    {
     "data": {
      "text/plain": [
       "6957"
      ]
     },
     "execution_count": 21,
     "metadata": {},
     "output_type": "execute_result"
    }
   ],
   "source": [
    "from gensim.models import Word2Vec\n",
    "EMBEDDING_DIM = 32\n",
    "window_size = 5\n",
    "nb_epoch = 5\n",
    "batch_size = 6000\n",
    "min_count = 3\n",
    "model = Word2Vec(\n",
    "    dataX_raw,\n",
    "    size = EMBEDDING_DIM,\n",
    "    window = window_size,\n",
    "    batch_words = batch_size,\n",
    "    iter = nb_epoch,\n",
    "    min_count = min_count,\n",
    "    negative = 5,\n",
    "    sg = 1\n",
    ") #sg=1 mean skip-gram\n",
    "\n",
    "embeddings_index = {vocab_word: model.wv[vocab_word] for vocab_word in model.wv.vocab}\n",
    "len(embeddings_index.keys())"
   ]
  },
  {
   "cell_type": "markdown",
   "metadata": {},
   "source": [
    "El parámetro min_count es la cantidad mínima de veces que debe aparecer la palabra en el texto para que sea tomada en consideración. Este parámetro tiene importancia ya que a mayor ocurrencia en el texto se tienen más ejemplos de contextos en los que se usa y por lo tanto se pueda aprender una tranformación más confiafle de dicha palabra a vector.\n",
    "\n",
    "Al inicio ve todos los lemmas presentes en dataX_raw 12450, pero dada la restricción de la frecuencia mínima genera una transformación a sólo 6957."
   ]
  },
  {
   "cell_type": "code",
   "execution_count": 25,
   "metadata": {},
   "outputs": [],
   "source": [
    "# Se genera matriz de embedding\n",
    "embedding_matrix = np.zeros((n_lemmas, EMBEDDING_DIM))\n",
    "for word, i in lemma2idx.items():\n",
    "    embedding_vector = embeddings_index.get(word)\n",
    "    if embedding_vector is not None: #if word does not has embedding\n",
    "        embedding_matrix[i] = embedding_vector\n",
    "        \n",
    "from keras.utils import to_categorical\n",
    "y = np.asarray([to_categorical(i, num_classes=n_labels) for i in y])"
   ]
  },
  {
   "cell_type": "markdown",
   "metadata": {},
   "source": [
    "## f)\n",
    "Luego de esto cree los conjuntos de entrenamiento y de prueba con el código a continuación **¿Cuáles son las dimensiones de entrada y salida de cada conjunto?** Comente"
   ]
  },
  {
   "cell_type": "code",
   "execution_count": 33,
   "metadata": {},
   "outputs": [
    {
     "name": "stdout",
     "output_type": "stream",
     "text": [
      "Entrenamiento: (16030, 70) Test: (6871, 70)\n",
      "Entrenamiento: (16030, 70, 18) Test: (6871, 70, 18)\n"
     ]
    }
   ],
   "source": [
    "from sklearn.model_selection import train_test_split\n",
    "X_train, X_test, y_train, y_test = train_test_split(X, y, test_size=0.3, random_state=22)\n",
    "\n",
    "print(\"Entrenamiento:\",X_train.shape, \"Test:\", X_test.shape)\n",
    "print(\"Entrenamiento:\",y_train.shape, \"Test:\", y_test.shape)"
   ]
  },
  {
   "cell_type": "markdown",
   "metadata": {},
   "source": [
    "En el caso de entrada: Son 2 matrices de 16030 (Entrenamiento) y 6871 (Validación) ejemplos. Cada ejemplo tiene 70 columnas indicando las 70 posibles palabras que pertenecen a la frase.\n",
    "\n",
    "En el caso de la salida: Son la misma cantidad de palabras para cada uno (16030 y 6871), pero ahora por cada palabra de la frase (70 palabras) hay un vector de largo 18 indicando los tags presentes en la palabra."
   ]
  },
  {
   "cell_type": "markdown",
   "metadata": {},
   "source": [
    "## g)\n",
    "Defina una red neuronal recurrente *many to many* con compuertas LSTM para aprender a *tagear* la entidad en el texto. Esta red debe procesar la secuencia de *lemmas* rellenados (o sin rellenar) y entregar el *tag* a cada uno de los *lemmas*, por lo que la salida de la red es una por cada instante de tiempo que se necesita entregar un *output*. La primera capa de la red a construir debe tener los vectores de *embedding* encontrados por **Word2Vec**. **Comente sobre los cambios que sufre un dato al ingresar a la red y la cantidad de parámetros de la red**. Entrene y luego evalúe su desempeño sobre ambos conjuntos."
   ]
  },
  {
   "cell_type": "code",
   "execution_count": 47,
   "metadata": {},
   "outputs": [
    {
     "name": "stdout",
     "output_type": "stream",
     "text": [
      "_________________________________________________________________\n",
      "Layer (type)                 Output Shape              Param #   \n",
      "=================================================================\n",
      "embedding_2 (Embedding)      (None, 70, 32)            398432    \n",
      "_________________________________________________________________\n",
      "lstm_2 (LSTM)                (None, 70, 100)           53200     \n",
      "_________________________________________________________________\n",
      "dropout_2 (Dropout)          (None, 70, 100)           0         \n",
      "_________________________________________________________________\n",
      "time_distributed_2 (TimeDist (None, 70, 18)            1818      \n",
      "=================================================================\n",
      "Total params: 453,450\n",
      "Trainable params: 55,018\n",
      "Non-trainable params: 398,432\n",
      "_________________________________________________________________\n"
     ]
    }
   ],
   "source": [
    "from keras.models import Sequential\n",
    "from keras.layers import LSTM, Embedding, Dense, Dropout, TimeDistributed\n",
    "model = Sequential()\n",
    "model.add(Embedding(input_dim=n_lemmas, output_dim=EMBEDDING_DIM, input_length=70,\n",
    "                    trainable=False, weights=[embedding_matrix]))\n",
    "model.add(LSTM(units=100,return_sequences=True))\n",
    "model.add(Dropout(0.2))\n",
    "model.add(TimeDistributed(Dense(n_labels, activation='softmax')))\n",
    "model.compile(loss='categorical_crossentropy', optimizer='adam')\n",
    "history_g = model.fit(X_train, y_train, validation_data=(X_test, y_test), epochs=15, batch_size=128, verbose=0)\n",
    "model.summary()"
   ]
  },
  {
   "cell_type": "code",
   "execution_count": 48,
   "metadata": {},
   "outputs": [
    {
     "data": {
      "image/png": "[encoded data removed]",
      "text/plain": [
       "<Figure size 1440x360 with 1 Axes>"
      ]
     },
     "metadata": {
      "needs_background": "light"
     },
     "output_type": "display_data"
    }
   ],
   "source": [
    "def chart_loss(history, epoch_number):\n",
    "    epoch_arr = [i+1 for i in range(epoch_number)]\n",
    "    plt.figure(figsize = (20,5))\n",
    "    plt.plot(epoch_arr, history.history['loss'], '.-')\n",
    "    plt.plot(epoch_arr, history.history['val_loss'], '.-')\n",
    "    plt.xlabel('Epoch')\n",
    "    plt.ylabel('Loss')\n",
    "    plt.legend( ('Train', 'Val') )\n",
    "\n",
    "    plt.show()\n",
    "\n",
    "chart_loss(history_g, 15)"
   ]
  },
  {
   "cell_type": "markdown",
   "metadata": {},
   "source": [
    "# Referencias\n",
    "\n",
    "[1](2019). Arxiv.org. Retrieved 19 July 2019, from https://arxiv.org/pdf/1903.07288.pdf"
   ]
  },
  {
   "cell_type": "code",
   "execution_count": null,
   "metadata": {},
   "outputs": [],
   "source": []
  }
 ],
 "metadata": {
  "kernelspec": {
   "display_name": "Python 3",
   "language": "python",
   "name": "python3"
  },
  "language_info": {
   "codemirror_mode": {
    "name": "ipython",
    "version": 3
   },
   "file_extension": ".py",
   "mimetype": "text/x-python",
   "name": "python",
   "nbconvert_exporter": "python",
   "pygments_lexer": "ipython3",
   "version": "3.6.8"
  }
 },
 "nbformat": 4,
 "nbformat_minor": 2
}
