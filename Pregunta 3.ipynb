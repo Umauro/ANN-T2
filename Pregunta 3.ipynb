{
 "cells": [
  {
   "cell_type": "markdown",
   "metadata": {},
   "source": [
    "# Tarea 2, pregunta 3: \"Encoder-Decoder sobre Texto\"\n",
    "\n",
    "## Integrantes\n",
    "\n",
    "* _**Francisco Olivares - 201473575-8 - fracisco.olivars.14@sansano.usm.cl**_\n",
    "* _**Felipe Vega - 201473511-1 - felipe.vega.14@sansano.usm.cl**_"
   ]
  },
  {
   "cell_type": "code",
   "execution_count": 16,
   "metadata": {},
   "outputs": [
    {
     "data": {
      "text/html": [
       "<style>.container { width:95% !important; }</style>"
      ],
      "text/plain": [
       "<IPython.core.display.HTML object>"
      ]
     },
     "metadata": {},
     "output_type": "display_data"
    },
    {
     "data": {
      "text/html": [
       "<style>.text_cell_render p, .text_cell_render li { font-size: 12.5pt !important; }</style>"
      ],
      "text/plain": [
       "<IPython.core.display.HTML object>"
      ]
     },
     "metadata": {},
     "output_type": "display_data"
    },
    {
     "data": {
      "text/html": [
       "<style>.text_cell_render li { margin: 0 0 10px 0; }</style>"
      ],
      "text/plain": [
       "<IPython.core.display.HTML object>"
      ]
     },
     "metadata": {},
     "output_type": "display_data"
    }
   ],
   "source": [
    "#Librerías\n",
    "import pandas as pd\n",
    "import numpy as np\n",
    "import matplotlib.pyplot as plt\n",
    "\n",
    "# Tensorflow GPU stuff :v\n",
    "import tensorflow as tf\n",
    "config = tf.ConfigProto()\n",
    "config.gpu_options.allow_growth=True\n",
    "sess = tf.Session(config=config)\n",
    "\n",
    "# Modificar estilos de jupyter\n",
    "from IPython.display import IFrame\n",
    "from IPython.core.display import display, HTML\n",
    "display(HTML(\"<style>.container { width:95% !important; }</style>\"))\n",
    "display(HTML(\"<style>.text_cell_render p, .text_cell_render li { font-size: 12.5pt !important; }</style>\"))\n",
    "display(HTML(\"<style>.text_cell_render li { margin: 0 0 10px 0; }</style>\"))\n",
    "\n",
    "# Tamaño fuente matplotlib\n",
    "font = {'size'   : 14}\n",
    "import matplotlib\n",
    "matplotlib.rc('font', **font)"
   ]
  },
  {
   "cell_type": "code",
   "execution_count": 2,
   "metadata": {},
   "outputs": [
    {
     "data": {
      "text/html": [
       "<div>\n",
       "<style scoped>\n",
       "    .dataframe tbody tr th:only-of-type {\n",
       "        vertical-align: middle;\n",
       "    }\n",
       "\n",
       "    .dataframe tbody tr th {\n",
       "        vertical-align: top;\n",
       "    }\n",
       "\n",
       "    .dataframe thead th {\n",
       "        text-align: right;\n",
       "    }\n",
       "</style>\n",
       "<table border=\"1\" class=\"dataframe\">\n",
       "  <thead>\n",
       "    <tr style=\"text-align: right;\">\n",
       "      <th></th>\n",
       "      <th>Source</th>\n",
       "      <th>Target</th>\n",
       "    </tr>\n",
       "  </thead>\n",
       "  <tbody>\n",
       "    <tr>\n",
       "      <th>0</th>\n",
       "      <td>Go.</td>\n",
       "      <td>Ve.</td>\n",
       "    </tr>\n",
       "    <tr>\n",
       "      <th>1</th>\n",
       "      <td>Go.</td>\n",
       "      <td>Vete.</td>\n",
       "    </tr>\n",
       "    <tr>\n",
       "      <th>2</th>\n",
       "      <td>Go.</td>\n",
       "      <td>Vaya.</td>\n",
       "    </tr>\n",
       "    <tr>\n",
       "      <th>3</th>\n",
       "      <td>Go.</td>\n",
       "      <td>Váyase.</td>\n",
       "    </tr>\n",
       "    <tr>\n",
       "      <th>4</th>\n",
       "      <td>Hi.</td>\n",
       "      <td>Hola.</td>\n",
       "    </tr>\n",
       "  </tbody>\n",
       "</table>\n",
       "</div>"
      ],
      "text/plain": [
       "  Source   Target\n",
       "0    Go.      Ve.\n",
       "1    Go.    Vete.\n",
       "2    Go.    Vaya.\n",
       "3    Go.  Váyase.\n",
       "4    Hi.    Hola."
      ]
     },
     "metadata": {},
     "output_type": "display_data"
    },
    {
     "data": {
      "text/plain": [
       "(123376, 2)"
      ]
     },
     "execution_count": 2,
     "metadata": {},
     "output_type": "execute_result"
    }
   ],
   "source": [
    "# Se importa el dataset\n",
    "import pandas as pd\n",
    "df = pd.read_csv(\"dataset_3/spa.txt\", sep=\"\\t\", names=[\"Source\",\"Target\"])\n",
    "display(df.head())\n",
    "df.shape"
   ]
  },
  {
   "cell_type": "markdown",
   "metadata": {},
   "source": [
    "## a)\n",
    "Visualice los datos ¿Qué es la entrada y qué es la salida? Comente sobre los múltiples significados/sinónimos que puede tener una palabra al ser traducida y cómo propondría arreglar eso. *se espera que pueda implementarlo*"
   ]
  },
  {
   "cell_type": "code",
   "execution_count": 3,
   "metadata": {},
   "outputs": [
    {
     "data": {
      "text/html": [
       "<div>\n",
       "<style scoped>\n",
       "    .dataframe tbody tr th:only-of-type {\n",
       "        vertical-align: middle;\n",
       "    }\n",
       "\n",
       "    .dataframe tbody tr th {\n",
       "        vertical-align: top;\n",
       "    }\n",
       "\n",
       "    .dataframe thead th {\n",
       "        text-align: right;\n",
       "    }\n",
       "</style>\n",
       "<table border=\"1\" class=\"dataframe\">\n",
       "  <thead>\n",
       "    <tr style=\"text-align: right;\">\n",
       "      <th></th>\n",
       "      <th>Source</th>\n",
       "      <th>Target</th>\n",
       "    </tr>\n",
       "  </thead>\n",
       "  <tbody>\n",
       "    <tr>\n",
       "      <th>123371</th>\n",
       "      <td>There are mothers and fathers who will lie awa...</td>\n",
       "      <td>Hay madres y padres que se quedan despiertos d...</td>\n",
       "    </tr>\n",
       "    <tr>\n",
       "      <th>123372</th>\n",
       "      <td>A carbon footprint is the amount of carbon dio...</td>\n",
       "      <td>Una huella de carbono es la cantidad de contam...</td>\n",
       "    </tr>\n",
       "    <tr>\n",
       "      <th>123373</th>\n",
       "      <td>Since there are usually multiple websites on a...</td>\n",
       "      <td>Como suele haber varias páginas web sobre cual...</td>\n",
       "    </tr>\n",
       "    <tr>\n",
       "      <th>123374</th>\n",
       "      <td>If you want to sound like a native speaker, yo...</td>\n",
       "      <td>Si quieres sonar como un hablante nativo, debe...</td>\n",
       "    </tr>\n",
       "    <tr>\n",
       "      <th>123375</th>\n",
       "      <td>It may be impossible to get a completely error...</td>\n",
       "      <td>Puede que sea imposible obtener un corpus comp...</td>\n",
       "    </tr>\n",
       "  </tbody>\n",
       "</table>\n",
       "</div>"
      ],
      "text/plain": [
       "                                                   Source  \\\n",
       "123371  There are mothers and fathers who will lie awa...   \n",
       "123372  A carbon footprint is the amount of carbon dio...   \n",
       "123373  Since there are usually multiple websites on a...   \n",
       "123374  If you want to sound like a native speaker, yo...   \n",
       "123375  It may be impossible to get a completely error...   \n",
       "\n",
       "                                                   Target  \n",
       "123371  Hay madres y padres que se quedan despiertos d...  \n",
       "123372  Una huella de carbono es la cantidad de contam...  \n",
       "123373  Como suele haber varias páginas web sobre cual...  \n",
       "123374  Si quieres sonar como un hablante nativo, debe...  \n",
       "123375  Puede que sea imposible obtener un corpus comp...  "
      ]
     },
     "metadata": {},
     "output_type": "display_data"
    }
   ],
   "source": [
    "display(df.tail())"
   ]
  },
  {
   "cell_type": "markdown",
   "metadata": {},
   "source": [
    "La entrada es una sentencia en ingles, esta puede tener 1 o más palabras. La salida es la sentencia en español la cual puede tener más o menos palabras que la sentencia de entrada.\n",
    "\n",
    "Una palabra en ingles puede ser traducida de varias maneras al español dado que según el contexto puede cambiar la traducción.\n",
    "\n",
    "No se realizó ningun arreglo debido a que no se encontró evidencia de que el multiple significado de una palabra tenga incidencia en el desempeño de máquinas entrenadas con una capa de embedding. (Se vió proyectos de ingles a frances [[1]](#Referencias) y de ingles a hindú [[2]](#Referencias))"
   ]
  },
  {
   "cell_type": "markdown",
   "metadata": {},
   "source": [
    "## b)\n",
    "Realice un pre-procesamiento a los textos como se acostumbra para eliminar símbolos inecesarios u otras cosas que estime conveniente, comente sobre la importancia de éste paso. Además de ésto deberá agregar un símbolo al final de la sentencia *target* para indicar un \"alto\" cuando la red neuronal necesite aprender a generar una sentencia."
   ]
  },
  {
   "cell_type": "code",
   "execution_count": 4,
   "metadata": {},
   "outputs": [],
   "source": [
    "import string\n",
    "table = str.maketrans('', '', string.punctuation) \n",
    "def clean_text(text, where=None):\n",
    "    \"\"\" OJO: Sin eliminar el significado de las palabras.\"\"\"\n",
    "    text = text.lower()\n",
    "    tokenize_text = text.split()\n",
    "    tokenize_text = [word.translate(table) for word in tokenize_text]#eliminar puntuacion\n",
    "    tokenize_text = [word for word in tokenize_text if word.isalpha()] #remove numbers\n",
    "    if where ==\"target\":\n",
    "        tokenize_text = tokenize_text + [\"#end\"] \n",
    "    return tokenize_text\n",
    "texts_input = list(df['Source'].apply(clean_text))\n",
    "texts_output = list(df['Target'].apply(clean_text, where='target'))"
   ]
  },
  {
   "cell_type": "code",
   "execution_count": 5,
   "metadata": {},
   "outputs": [],
   "source": [
    "from sklearn.model_selection import train_test_split\n",
    "X_train_l, X_test_l, Y_train_l, Y_test_l = train_test_split(texts_input, texts_output,\n",
    "                                                            test_size=10000, random_state=22)\n",
    "\n",
    "# Se van a seleccionar 35000 elementos\n",
    "idx = np.random.choice(np.arange(len(X_train_l)), 25000, replace=False)\n",
    "X_train_l = np.asarray(X_train_l)[idx]\n",
    "Y_train_l = np.asarray(Y_train_l)[idx]\n",
    "\n",
    "X_train_l, X_val_l, Y_train_l, Y_val_l = train_test_split(X_train_l, Y_train_l, \n",
    "                                                          test_size=10000, random_state=22)"
   ]
  },
  {
   "cell_type": "markdown",
   "metadata": {},
   "source": [
    "Es necesario estandarizar y limpiar el texto de entrada para así en un paso posterior obtener el vocabulario sobre el cual se está trabajando. Por ejemplo la palabra 'Casa' y 'casa' son distintas a ojos del la red debido a que se diferencian en la mayúscula, entonces se estandariza el texto pasandolo todo a minúscula.\n",
    "\n",
    "Con ello se intenta obtener un vocabulario reducido ya que tener 2 palabras que aportan la misma información ocupando dos entradas en la tabla de vocabulario no es bueno, sólo añade complejidad. "
   ]
  },
  {
   "cell_type": "markdown",
   "metadata": {},
   "source": [
    "## c)\n",
    "Genere un vocabulario, **desde el conjunto de entrenamiento**, sobre las palabras a recibir y generar en la traducción, esto es codificarlas a un valor entero que servirá para que la red las vea en una representación útil a procesar, *comience desde el 1 debido a que el cero será utilizado más adelante*. Para reducir el vocabulario considere las palabras que aparecen un mínimo de *min_count* veces en todo los datos, se aconseja un valor de 3. Comente sobre la importancia de ésto al reducir el vocabulario ¿De qué tamaño es el vocabulario de entrada y salida? ¿La diferencia de ésto podría ser un factor importante?"
   ]
  },
  {
   "cell_type": "code",
   "execution_count": 6,
   "metadata": {},
   "outputs": [],
   "source": [
    "def create_vocab(texts, min_count=1):\n",
    "    count_vocab = {}\n",
    "    for sentence in texts:\n",
    "        for word in sentence:\n",
    "            if word not in count_vocab:\n",
    "                count_vocab[word] = 1\n",
    "            else:\n",
    "                count_vocab[word] += 1\n",
    "    return [word for word,count in count_vocab.items() if count >= min_count]\n",
    "\n",
    "vocab_source = create_vocab(X_train_l, min_count=3)\n",
    "word2idx_s = {w: i+1 for i, w in enumerate(vocab_source)} #index (i+1) start from 1,2,3,...\n",
    "idx2word_s = {i+1: w for i, w in enumerate(vocab_source)}\n",
    "n_words_s = len(vocab_source)\n",
    "vocab_target = create_vocab(Y_train_l, min_count=3)\n",
    "word2idx_t = {w: i+1 for i, w in enumerate(vocab_target)}  #Converting text to numbers\n",
    "idx2word_t = {i+1 : w for i, w in enumerate(vocab_target)}\n",
    "n_words_t = len(vocab_target)"
   ]
  },
  {
   "cell_type": "code",
   "execution_count": 7,
   "metadata": {},
   "outputs": [
    {
     "name": "stdout",
     "output_type": "stream",
     "text": [
      "Vocabulario de entrada: 2412\n",
      "Vocabulario de salida: 3035\n"
     ]
    }
   ],
   "source": [
    "print(\"Vocabulario de entrada:\", n_words_s)\n",
    "print(\"Vocabulario de salida:\", n_words_t)"
   ]
  },
  {
   "cell_type": "markdown",
   "metadata": {},
   "source": [
    "La cantidad de palabras en cada vocabulario es la que se muestra en la casilla superior.\n",
    "\n",
    "Dependiendo del parámetro min_count se establece la ocurrencia mínima de la palabra para que sea considerada parte del vocabulario. Si se elige un valor de corte más alto se espera que decremente la cantidad de palabras seleccionadas para el vocabulario de entrada y salida.\n",
    "\n",
    "El tamaño de los vocabularios es importante ya que influyen en la complejidad de la red, por ejemplo si se ocupa una capa de embeddig (en la entrada), por cada palabra nueva en el vocabulario de entrada se añade una entrada en la matriz de embedding, por lo que se añaden n * embedding_dim pesos nuevos (n = cantidad de palabras nuevas, embedding_dim = dimensión de salida del embedding).\n",
    "\n",
    "Respecto al vocabulario de salida en la capa softmax se añade una nueva neurona por cada nueva palabra, esto añade n * recurrent_units pesos nuevos (n = nuevas palabras en vocabulario de salida, recurrent_units = cantidad de neuronas recurrentes apiladas en la capa recurrente a la cual se conecta la capa softmax )"
   ]
  },
  {
   "cell_type": "markdown",
   "metadata": {},
   "source": [
    "Ahora codifique las palabras a los números indexados con el vocabulario. Recuerde que si una palabra en los otros conjuntos, o en el mismo de entrenamiento, no aparece en el vocabulario no se podrá generar una codificación, por lo que será **ignorada** ¿Cómo se podría evitar ésto?"
   ]
  },
  {
   "cell_type": "code",
   "execution_count": 8,
   "metadata": {},
   "outputs": [],
   "source": [
    "\"\"\" Source/input data \"\"\"\n",
    "\n",
    "def convert_text_to_index(X, Y, vocabulary):\n",
    "    transformed_data = list()\n",
    "    for i in range(len(X)):\n",
    "        words_in_vocabulary = True\n",
    "        trasnformed_sentence = []\n",
    "        for word in X[i]:\n",
    "            if word in vocabulary:\n",
    "                trasnformed_sentence.append(vocabulary[word])\n",
    "            else:\n",
    "                words_in_vocabulary = False\n",
    "                break\n",
    "        if words_in_vocabulary:\n",
    "            transformed_data.append(trasnformed_sentence)\n",
    "            \n",
    "    return transformed_data\n",
    "            \n",
    "dataX_train = [[word2idx_s[word] for word in sent if word in word2idx_s] for sent in X_train_l]\n",
    "dataX_val = [[word2idx_s[word] for word in sent if word in word2idx_s] for sent in X_val_l]\n",
    "dataX_test = [[word2idx_s[word] for word in sent if word in word2idx_s] for sent in X_test_l]\n",
    "\n",
    "# dataX_train = convert_text_to_index(X_train_l, word2idx_s)\n",
    "# dataX_valid = convert_text_to_index(X_val_l, word2idx_s)\n",
    "# dataX_test = convert_text_to_index(X_test_l, word2idx_s)\n",
    "\n",
    "\"\"\" Target/output data \"\"\"\n",
    "dataY_train = [[word2idx_t[word] for word in sent if word in word2idx_t] for sent in Y_train_l]\n",
    "dataY_val = [[word2idx_t[word] for word in sent if word in word2idx_t] for sent in Y_val_l] \n",
    "dataY_test = [[word2idx_t[word] for word in sent if word in word2idx_t] for sent in Y_test_l] "
   ]
  },
  {
   "cell_type": "markdown",
   "metadata": {},
   "source": [
    "Se podría evitar generando el vocabulario a partir de TODO el dataset antes de particionarlo en los distintos conjuntos de entrenamiento, validación y testing. Así se debería disminuir la posibilidad de que una palabra no se encuentre presente en el vocabulario. Otra cosa que se podría hacer es disminuir la cantidad mínima de ocurrencias de una palabra para que esta sea conciderada en el vocabulario, actualmente está puesto en 3."
   ]
  },
  {
   "cell_type": "markdown",
   "metadata": {},
   "source": [
    "## d)\n",
    "Debido al largo variable de los textos de entrada y salida será necesario estandarizar ésto para poder trabajar de manera más cómoda en Keras, *cada texto (entrada y salida) pueden tener distinto largo máximo*. Comente sobre la decisión del tipo de *padding*, *pre o post* ¿Qué sucede al variar el largo máximo de instantes de tiempo para procesar en cada parte del modelo (entrada y salida)?"
   ]
  },
  {
   "cell_type": "code",
   "execution_count": 9,
   "metadata": {},
   "outputs": [
    {
     "name": "stdout",
     "output_type": "stream",
     "text": [
      "Largo max inp:  43\n"
     ]
    },
    {
     "name": "stderr",
     "output_type": "stream",
     "text": [
      "Using TensorFlow backend.\n"
     ]
    },
    {
     "name": "stdout",
     "output_type": "stream",
     "text": [
      "Largo max out:  45\n"
     ]
    }
   ],
   "source": [
    "from keras.preprocessing import sequence\n",
    "\"\"\" INPUT DATA (Origin language) \"\"\"\n",
    "max_inp_length = max(map(len, dataX_train)) # Se saca el largo de la sentencia más larga\n",
    "print(\"Largo max inp: \", max_inp_length)\n",
    "word2idx_s[\"PAD\"] = 0 #padding symbol\n",
    "idx2word_s[0] = \"PAD\"\n",
    "n_words_s += 1  \n",
    "\n",
    "# Se procede a aplicar el padding\n",
    "X_train = sequence.pad_sequences(dataX_train, maxlen=max_inp_length, padding='pre', value=word2idx_s[\"PAD\"])\n",
    "X_val = sequence.pad_sequences(dataX_val, maxlen=max_inp_length, padding='pre', value=word2idx_s[\"PAD\"])\n",
    "X_test = sequence.pad_sequences(dataX_test, maxlen=max_inp_length, padding='pre', value=word2idx_s[\"PAD\"])\n",
    "\n",
    "\"\"\" OUTPUT DATA (Destination language) \"\"\"\n",
    "max_out_length = max(map(len,dataY_train)) \n",
    "print(\"Largo max out: \",max_out_length)\n",
    "word2idx_t[\"PAD\"] = 0 #padding symbol\n",
    "idx2word_t[0] = \"PAD\"\n",
    "n_words_t += 1  \n",
    "Y_train = sequence.pad_sequences(dataY_train, maxlen=max_out_length, padding='post', value=word2idx_t[\"PAD\"])\n",
    "Y_val = sequence.pad_sequences(dataY_val, maxlen=max_out_length, padding='post', value=word2idx_t[\"PAD\"])\n",
    "Y_test = sequence.pad_sequences(dataY_test, maxlen=max_out_length, padding='post', value=word2idx_t[\"PAD\"])"
   ]
  },
  {
   "cell_type": "markdown",
   "metadata": {},
   "source": [
    "En el caso de la entrada se debiese poder ocupar pre padding o post padding, no debiese haber diferencia. Para el caso de la salida hace sentido que sea post padding ya que la salida a predecir es de largo variable, entonces se hace más natural que cuando la red termine de predecir en caso de que ya haya llegado a un '#end' rellene con post padding.\n",
    "\n",
    "Al aumentar las dimensiones de la entrada y salida a la sentencia máxima se permite que la red pueda procesar los input de largo variable, ya que ahora a nivel de programación el input y output tienen largo dijo, pero semánticamente no gracias al padding."
   ]
  },
  {
   "cell_type": "markdown",
   "metadata": {},
   "source": [
    "## e)\n",
    "Para evitar que la red obtenga una ganancia por imitar/predecir el símbolo de *padding* que está bastante presente en los datos coloque un peso sobre éste clase, con valor 0, así se evita que tenga impacto en la función objetivo. Ya que *keras* no soporta directamente ésto en series de tiempo coloque el peso a cada instante de tiempo de cada dato de entrenamiento dependiendo de su clase. Comente sobre alguna otra forma en que se podría manejar el evitar que la red prediga en mayoría el símbolo de *padding*."
   ]
  },
  {
   "cell_type": "code",
   "execution_count": 10,
   "metadata": {},
   "outputs": [],
   "source": [
    "c_weights = np.ones(n_words_t)\n",
    "c_weights[0] = 0 #padding class masked\n",
    "sample_weight = np.zeros(Y_train.shape)\n",
    "for i in range(sample_weight.shape[0]):\n",
    "    sample_weight[i] = c_weights[Y_train[i,:]]"
   ]
  },
  {
   "cell_type": "markdown",
   "metadata": {},
   "source": [
    "Esto se podría evitar ocupando una función de perdida personalizada la cual no considere el caracter de padding al ser evaluada o que lo premie con menor valor respecto a palabras reales."
   ]
  },
  {
   "cell_type": "markdown",
   "metadata": {},
   "source": [
    "## f)\n",
    "Para lograr la tarea defina una red recurrente del tipo *encoder*-*decoder* como la que se presenta en la siguiente imágen.\n",
    "<img src=\"https://chunml.github.io/ChunML.github.io/images/projects/sequence-to-sequence/repeated_vector.png\" width=\"60%\" />\n",
    "En primer lugar defina el *Encoder* que procesara el texto de entrada y retornará un solo vector final, haciendo uso de las capas ya conocidas de *Embedding* para generar un vector denso de palabra y *GRU*, pero en su versión acelerada para GPU.\n",
    "\n",
    "Luego defina la sección que conecta el largo (*timesteps*) de entrada *vs* el de salida.\n",
    "\n",
    "Finalmente defina el *Decoder* para generar la secuencia de salida en texto de palabras en otro idioma, a través de la función *softmax* sobre cada instante de tiempo (*timestep*). "
   ]
  },
  {
   "cell_type": "code",
   "execution_count": 11,
   "metadata": {},
   "outputs": [
    {
     "name": "stdout",
     "output_type": "stream",
     "text": [
      "WARNING:tensorflow:From /home/francisco/anaconda3/envs/redesneuronales/lib/python3.6/site-packages/tensorflow/python/framework/op_def_library.py:263: colocate_with (from tensorflow.python.framework.ops) is deprecated and will be removed in a future version.\n",
      "Instructions for updating:\n",
      "Colocations handled automatically by placer.\n",
      "_________________________________________________________________\n",
      "Layer (type)                 Output Shape              Param #   \n",
      "=================================================================\n",
      "embedding_1 (Embedding)      (None, 43, 100)           241300    \n",
      "_________________________________________________________________\n",
      "cu_dnngru_1 (CuDNNGRU)       (None, 43, 64)            31872     \n",
      "_________________________________________________________________\n",
      "cu_dnngru_2 (CuDNNGRU)       (None, 128)               74496     \n",
      "_________________________________________________________________\n",
      "repeat_vector_1 (RepeatVecto (None, 45, 128)           0         \n",
      "_________________________________________________________________\n",
      "cu_dnngru_3 (CuDNNGRU)       (None, 45, 128)           99072     \n",
      "_________________________________________________________________\n",
      "cu_dnngru_4 (CuDNNGRU)       (None, 45, 64)            37248     \n",
      "_________________________________________________________________\n",
      "time_distributed_1 (TimeDist (None, 45, 3036)          197340    \n",
      "=================================================================\n",
      "Total params: 681,328\n",
      "Trainable params: 681,328\n",
      "Non-trainable params: 0\n",
      "_________________________________________________________________\n"
     ]
    }
   ],
   "source": [
    "from keras.models import Sequential\n",
    "from keras.layers import Embedding, CuDNNGRU, TimeDistributed, Dense, Dropout\n",
    "EMBEDDING_DIM = 100\n",
    "\n",
    "model_F = Sequential()\n",
    "model_F.add(Embedding(input_dim=n_words_s, output_dim=EMBEDDING_DIM, input_length=max_inp_length))\n",
    "model_F.add(CuDNNGRU(64, return_sequences=True))\n",
    "model_F.add(CuDNNGRU(128, return_sequences=False))\n",
    "\n",
    "from keras.layers import RepeatVector\n",
    "model_F.add(RepeatVector(max_out_length)) #conection\n",
    "\n",
    "# Decoder\n",
    "model_F.add(CuDNNGRU(128, return_sequences=True))\n",
    "model_F.add(CuDNNGRU(64, return_sequences=True))\n",
    "model_F.add(TimeDistributed(Dense(n_words_t, activation='softmax')))\n",
    "model_F.summary()"
   ]
  },
  {
   "cell_type": "code",
   "execution_count": 12,
   "metadata": {},
   "outputs": [
    {
     "name": "stdout",
     "output_type": "stream",
     "text": [
      "45\n",
      "(15000, 45)\n",
      "(10000, 45)\n"
     ]
    }
   ],
   "source": [
    "print(max_out_length)\n",
    "print(Y_train.shape)\n",
    "print(Y_val.shape)\n",
    "Y_train = np.expand_dims(Y_train, axis=2)\n",
    "Y_val = np.expand_dims(Y_val, axis=2)\n",
    "Y_test = np.expand_dims(Y_test, axis=2)"
   ]
  },
  {
   "cell_type": "markdown",
   "metadata": {},
   "source": [
    "Entrene la red entre 1 a 5 *epochs*, agregando los pesos definidos sobre cada ejemplo de entrenamiento. Además de utilizar una función de pérdida que evita generar explícitamente los *one hot vector*"
   ]
  },
  {
   "cell_type": "code",
   "execution_count": 14,
   "metadata": {},
   "outputs": [
    {
     "name": "stdout",
     "output_type": "stream",
     "text": [
      "WARNING:tensorflow:From /home/francisco/anaconda3/envs/redesneuronales/lib/python3.6/site-packages/tensorflow/python/ops/math_ops.py:3066: to_int32 (from tensorflow.python.ops.math_ops) is deprecated and will be removed in a future version.\n",
      "Instructions for updating:\n",
      "Use tf.cast instead.\n",
      "Train on 15000 samples, validate on 10000 samples\n",
      "Epoch 1/5\n",
      "15000/15000 [==============================] - 11s 734us/step - loss: 6.6071 - val_loss: 9.5479\n",
      "Epoch 2/5\n",
      "15000/15000 [==============================] - 9s 600us/step - loss: 5.6373 - val_loss: 10.4407\n",
      "Epoch 3/5\n",
      "15000/15000 [==============================] - 10s 650us/step - loss: 5.6314 - val_loss: 10.8922\n",
      "Epoch 4/5\n",
      "15000/15000 [==============================] - 9s 627us/step - loss: 5.6196 - val_loss: 11.2907\n",
      "Epoch 5/5\n",
      "15000/15000 [==============================] - 9s 613us/step - loss: 5.5981 - val_loss: 11.5811\n"
     ]
    }
   ],
   "source": [
    "model_F.compile(optimizer='adam', loss='sparse_categorical_crossentropy', sample_weight_mode='temporal')\n",
    "history_F = model_F.fit(X_train, Y_train, epochs=5, batch_size=256,validation_data=(X_val, Y_val), sample_weight = sample_weight, verbose=1)\n",
    "\n",
    "# model_F.compile(optimizer='adam', loss='categorical_crossentropy')\n",
    "# history_F = model_F.fit(X_train, Y_train, epochs=3, batch_size=256,validation_data=(X_val, Y_val), verbose=1)"
   ]
  },
  {
   "cell_type": "code",
   "execution_count": 21,
   "metadata": {},
   "outputs": [
    {
     "data": {
      "image/png": "[encoded data removed]",
      "text/plain": [
       "<Figure size 1440x360 with 1 Axes>"
      ]
     },
     "metadata": {
      "needs_background": "light"
     },
     "output_type": "display_data"
    }
   ],
   "source": [
    "def chart_loss(history, epoch_number, question):\n",
    "    epoch_arr = [i+1 for i in range(epoch_number)]\n",
    "    plt.figure(figsize = (20,5))\n",
    "    plt.plot(epoch_arr, history.history['loss'], '.-')\n",
    "    plt.plot(epoch_arr, history.history['val_loss'], '.-')\n",
    "    plt.xlabel('Epoch')\n",
    "    plt.ylabel('Loss')\n",
    "    plt.legend( ('Train', 'Val') )\n",
    "    plt.title(\"Pregunta: {}, Función de perdida vs epoch\".format(question))\n",
    "\n",
    "    max_index = np.argmin(history.history['val_loss'])\n",
    "    max_value = history.history['val_loss'][max_index].round(3)\n",
    "    plt.annotate('Min = {}'.format(max_value), xy=(max_index+1, max_value), xycoords='data', xytext=(-100, 100), textcoords='offset points', fontsize=14, arrowprops=dict(arrowstyle=\"->\"))\n",
    "\n",
    "\n",
    "    plt.show()\n",
    "\n",
    "chart_loss(history_F, 5, \"F\")"
   ]
  },
  {
   "cell_type": "markdown",
   "metadata": {},
   "source": [
    "## g)\n",
    "Debido a lo costoso de tener una red completamente recurrente para entrenar y poder experimentar, cambie el modelo que procesa el *Encoder* por una red convolucional, reduciendo el número de capas pero aumentando las neuronas. Utilice tamaños de *kernel*  igual a 5 y funciones de activaciones relu. Se agregan capas de *BatchNormalization* debido a que en el *Decoder* contamos con redes recurrentes que tienen capa activación distinta a la usada por las convoluciones. La capa de *GlobalMaxPooling1d* es lo que permite reducir toda la información extraída a un único vector, como se realizó anteriormente con *return_sequences=False*, comente sobre la ganancia o desventaja de ésto *vs* la red neuronal."
   ]
  },
  {
   "cell_type": "code",
   "execution_count": 22,
   "metadata": {},
   "outputs": [
    {
     "name": "stdout",
     "output_type": "stream",
     "text": [
      "_________________________________________________________________\n",
      "Layer (type)                 Output Shape              Param #   \n",
      "=================================================================\n",
      "embedding_3 (Embedding)      (None, 43, 100)           241300    \n",
      "_________________________________________________________________\n",
      "conv1d_3 (Conv1D)            (None, 43, 256)           128256    \n",
      "_________________________________________________________________\n",
      "batch_normalization_3 (Batch (None, 43, 256)           1024      \n",
      "_________________________________________________________________\n",
      "conv1d_4 (Conv1D)            (None, 43, 256)           327936    \n",
      "_________________________________________________________________\n",
      "batch_normalization_4 (Batch (None, 43, 256)           1024      \n",
      "_________________________________________________________________\n",
      "global_max_pooling1d_2 (Glob (None, 256)               0         \n",
      "_________________________________________________________________\n",
      "repeat_vector_3 (RepeatVecto (None, 45, 256)           0         \n",
      "_________________________________________________________________\n",
      "cu_dnngru_6 (CuDNNGRU)       (None, 45, 256)           394752    \n",
      "_________________________________________________________________\n",
      "time_distributed_3 (TimeDist (None, 45, 3036)          780252    \n",
      "=================================================================\n",
      "Total params: 1,874,544\n",
      "Trainable params: 1,873,520\n",
      "Non-trainable params: 1,024\n",
      "_________________________________________________________________\n"
     ]
    }
   ],
   "source": [
    "from keras.layers import Conv1D,MaxPool1D,GlobalMaxPooling1D,GlobalAveragePooling1D,BatchNormalization\n",
    "model_G = Sequential()\n",
    "model_G.add(Embedding(input_dim=n_words_s, output_dim=EMBEDDING_DIM, input_length=max_inp_length))\n",
    "model_G.add(Conv1D(256, 5, padding='same', activation='relu', strides=1))\n",
    "model_G.add(BatchNormalization()) #for stability\n",
    "model_G.add(Conv1D(256, 5, padding='same', activation='relu', strides=1))\n",
    "model_G.add(BatchNormalization())\n",
    "model_G.add(GlobalMaxPooling1D()) #aka to return_sequences=False\n",
    "model_G.add(RepeatVector(max_out_length)) #conection\n",
    "model_G.add(CuDNNGRU(256, return_sequences=True))\n",
    "model_G.add(TimeDistributed(Dense(n_words_t, activation='softmax')))\n",
    "model_G.summary() "
   ]
  },
  {
   "cell_type": "code",
   "execution_count": 23,
   "metadata": {},
   "outputs": [
    {
     "name": "stdout",
     "output_type": "stream",
     "text": [
      "WARNING:tensorflow:From /home/francisco/anaconda3/envs/redesneuronales/lib/python3.6/site-packages/tensorflow/python/ops/math_grad.py:102: div (from tensorflow.python.ops.math_ops) is deprecated and will be removed in a future version.\n",
      "Instructions for updating:\n",
      "Deprecated in favor of operator or tf.math.divide.\n",
      "Train on 15000 samples, validate on 10000 samples\n",
      "Epoch 1/20\n",
      "15000/15000 [==============================] - 15s 969us/step - loss: 5.8461 - val_loss: 11.5897\n",
      "Epoch 2/20\n",
      "15000/15000 [==============================] - 13s 854us/step - loss: 5.3820 - val_loss: 12.5520\n",
      "Epoch 3/20\n",
      "15000/15000 [==============================] - 13s 850us/step - loss: 5.0922 - val_loss: 12.8810\n",
      "Epoch 4/20\n",
      "15000/15000 [==============================] - 13s 838us/step - loss: 4.8250 - val_loss: 13.0284\n",
      "Epoch 5/20\n",
      "15000/15000 [==============================] - 13s 879us/step - loss: 4.5706 - val_loss: 13.3945\n",
      "Epoch 6/20\n",
      "15000/15000 [==============================] - 13s 882us/step - loss: 4.3534 - val_loss: 13.8231\n",
      "Epoch 7/20\n",
      "15000/15000 [==============================] - 13s 867us/step - loss: 4.1515 - val_loss: 14.1936\n",
      "Epoch 8/20\n",
      "15000/15000 [==============================] - 13s 896us/step - loss: 3.9531 - val_loss: 14.3503\n",
      "Epoch 9/20\n",
      "15000/15000 [==============================] - 13s 884us/step - loss: 3.7765 - val_loss: 14.2921\n",
      "Epoch 10/20\n",
      "15000/15000 [==============================] - 13s 853us/step - loss: 3.6168 - val_loss: 14.3236\n",
      "Epoch 11/20\n",
      "15000/15000 [==============================] - 13s 837us/step - loss: 3.4486 - val_loss: 14.3546\n",
      "Epoch 12/20\n",
      "15000/15000 [==============================] - 13s 840us/step - loss: 3.2823 - val_loss: 14.3599\n",
      "Epoch 13/20\n",
      "15000/15000 [==============================] - 13s 837us/step - loss: 3.1589 - val_loss: 14.3766\n",
      "Epoch 14/20\n",
      "15000/15000 [==============================] - 13s 839us/step - loss: 3.0054 - val_loss: 14.3979\n",
      "Epoch 15/20\n",
      "15000/15000 [==============================] - 13s 839us/step - loss: 2.8586 - val_loss: 14.3966\n",
      "Epoch 16/20\n",
      "15000/15000 [==============================] - 13s 837us/step - loss: 2.7722 - val_loss: 14.3891\n",
      "Epoch 17/20\n",
      "15000/15000 [==============================] - 13s 842us/step - loss: 2.6470 - val_loss: 14.3991\n",
      "Epoch 18/20\n",
      "15000/15000 [==============================] - 13s 839us/step - loss: 2.5213 - val_loss: 14.4024\n",
      "Epoch 19/20\n",
      "15000/15000 [==============================] - 13s 837us/step - loss: 2.4125 - val_loss: 14.4024\n",
      "Epoch 20/20\n",
      "15000/15000 [==============================] - 13s 839us/step - loss: 2.2994 - val_loss: 14.4038\n"
     ]
    }
   ],
   "source": [
    "model_G.compile(optimizer='adam', loss='sparse_categorical_crossentropy', sample_weight_mode='temporal')\n",
    "history_G = model_G.fit(X_train, Y_train, epochs=20, batch_size=256,validation_data=(X_val, Y_val), sample_weight = sample_weight, verbose=1)"
   ]
  },
  {
   "cell_type": "code",
   "execution_count": 24,
   "metadata": {},
   "outputs": [
    {
     "data": {
      "image/png": "[encoded data removed]",
      "text/plain": [
       "<Figure size 1440x360 with 1 Axes>"
      ]
     },
     "metadata": {
      "needs_background": "light"
     },
     "output_type": "display_data"
    }
   ],
   "source": [
    "chart_loss(history_G, 20, \"G\")"
   ]
  },
  {
   "cell_type": "markdown",
   "metadata": {},
   "source": [
    "Se genera una nueva red la cual tiene más atributos, entonces se espera que esta tenga mayor poder de predicción. Al ver los resultados obtenidos se aprecia que no varian casi nada, pues sigue habiendo un overfitting.\n",
    "\n",
    "Se aprecia que la red con capa convolucional disminuye el error de entrenamiento más rápido (al ver los resultados en 5 epochs)"
   ]
  },
  {
   "cell_type": "markdown",
   "metadata": {},
   "source": [
    "## h)\n",
    "Visualice lo aprendido por el modelo sobre algunos datos del conjunto de entrenamiento y validación, comente lo observado."
   ]
  },
  {
   "cell_type": "code",
   "execution_count": 26,
   "metadata": {},
   "outputs": [
    {
     "name": "stdout",
     "output_type": "stream",
     "text": [
      "Texto source:  it was a thing to do\n",
      "Texto target real:  fue una #end\n",
      "Texto target predicho:  fue lo para hacer #end\n",
      "\n",
      "\n",
      "Texto source:  she did her best to help him\n",
      "Texto target real:  ella hizo todo lo que pudo para #end\n",
      "Texto target predicho:  ella lo lo que lo #end\n",
      "\n",
      "\n",
      "Texto source:  he was a\n",
      "Texto target real:  él estaba una melodía #end\n",
      "Texto target predicho:  él era era #end\n",
      "\n",
      "\n",
      "Texto source:  tom eventually\n",
      "Texto target real:  tom finalmente se #end\n",
      "Texto target predicho:  tom tom la #end\n",
      "\n",
      "\n",
      "Texto source:  once a time there was a beautiful\n",
      "Texto target real:  una vez una hermosa #end\n",
      "Texto target predicho:  una vez una vez vez #end\n",
      "\n",
      "\n"
     ]
    }
   ],
   "source": [
    "def predict_words(y_indexs, data=\"target\"):\n",
    "    \"\"\" Predict until '-#end-' is seen \"\"\"\n",
    "    return_val = []\n",
    "    for indx_word in y_indexs:\n",
    "        if indx_word != 0: #start to predict\n",
    "            return_val.append(np.squeeze(indx_word))\n",
    "            if data == \"target\": #if target is predicting\n",
    "                if indx_word == word2idx_t[\"#end\"]:\n",
    "                    return return_val                \n",
    "    return return_val\n",
    "\n",
    "def show_predictions(model, number_of_examples = 5):\n",
    "    n_s = number_of_examples\n",
    "    idx = np.random.choice(np.arange(Y_val.shape[0]), size=n_s, replace=False)\n",
    "    Y_pred = model.predict_classes(X_val[idx] )\n",
    "    for i, n_sampled in enumerate(idx):\n",
    "        text_input = [idx2word_s[p] for p in predict_words(X_val[n_sampled], data=\"source\")]\n",
    "        print(\"Texto source: \", ' '.join(text_input))\n",
    "        text_real = [idx2word_t[p] for p in predict_words(Y_val[n_sampled,:,0], data=\"target\")]\n",
    "        print(\"Texto target real: \", ' '.join( text_real))\n",
    "        text_sampled = [idx2word_t[p] for p in predict_words(Y_pred[i], data=\"target\")]\n",
    "        print(\"Texto target predicho: \", ' '.join(text_sampled))\n",
    "        print('\\n')\n",
    "    \n",
    "show_predictions(model_G)"
   ]
  },
  {
   "cell_type": "markdown",
   "metadata": {},
   "source": [
    "Al ver 5 palabras de ejemplo se observa que en la predicción hay duplicados de las palabras :("
   ]
  },
  {
   "cell_type": "markdown",
   "metadata": {},
   "source": [
    "## i)\n",
    "Realice algún cambio esperando que mejore el modelo entrenado, luego vuelva a visualizar lo predicho por la red *vs* lo real. *Debido a lo costoso en entrenar puede optar por realizar solo un cambio pero que sea significativo*."
   ]
  },
  {
   "cell_type": "code",
   "execution_count": 27,
   "metadata": {},
   "outputs": [
    {
     "name": "stdout",
     "output_type": "stream",
     "text": [
      "WARNING:tensorflow:From /home/francisco/anaconda3/envs/redesneuronales/lib/python3.6/site-packages/keras/backend/tensorflow_backend.py:3445: calling dropout (from tensorflow.python.ops.nn_ops) with keep_prob is deprecated and will be removed in a future version.\n",
      "Instructions for updating:\n",
      "Please use `rate` instead of `keep_prob`. Rate should be set to `rate = 1 - keep_prob`.\n",
      "_________________________________________________________________\n",
      "Layer (type)                 Output Shape              Param #   \n",
      "=================================================================\n",
      "embedding_4 (Embedding)      (None, 43, 100)           241300    \n",
      "_________________________________________________________________\n",
      "conv1d_5 (Conv1D)            (None, 43, 256)           128256    \n",
      "_________________________________________________________________\n",
      "batch_normalization_5 (Batch (None, 43, 256)           1024      \n",
      "_________________________________________________________________\n",
      "conv1d_6 (Conv1D)            (None, 43, 256)           327936    \n",
      "_________________________________________________________________\n",
      "batch_normalization_6 (Batch (None, 43, 256)           1024      \n",
      "_________________________________________________________________\n",
      "global_max_pooling1d_3 (Glob (None, 256)               0         \n",
      "_________________________________________________________________\n",
      "repeat_vector_4 (RepeatVecto (None, 45, 256)           0         \n",
      "_________________________________________________________________\n",
      "cu_dnngru_7 (CuDNNGRU)       (None, 45, 256)           394752    \n",
      "_________________________________________________________________\n",
      "dropout_1 (Dropout)          (None, 45, 256)           0         \n",
      "_________________________________________________________________\n",
      "time_distributed_4 (TimeDist (None, 45, 3036)          780252    \n",
      "=================================================================\n",
      "Total params: 1,874,544\n",
      "Trainable params: 1,873,520\n",
      "Non-trainable params: 1,024\n",
      "_________________________________________________________________\n"
     ]
    }
   ],
   "source": [
    "model_I = Sequential()\n",
    "model_I.add(Embedding(input_dim=n_words_s, output_dim=EMBEDDING_DIM, input_length=max_inp_length))\n",
    "model_I.add(Conv1D(256, 5, padding='same', activation='relu', strides=1))\n",
    "model_I.add(BatchNormalization()) #for stability\n",
    "model_I.add(Conv1D(256, 5, padding='same', activation='relu', strides=1))\n",
    "model_I.add(BatchNormalization())\n",
    "model_I.add(GlobalMaxPooling1D()) #aka to return_sequences=False\n",
    "model_I.add(RepeatVector(max_out_length)) #conection\n",
    "model_I.add(CuDNNGRU(256, return_sequences=True))\n",
    "model_I.add(Dropout(0.5)) # Se añade Dropout esperando un efecto regularizador\n",
    "model_I.add(TimeDistributed(Dense(n_words_t, activation='softmax')))\n",
    "model_I.summary() "
   ]
  },
  {
   "cell_type": "code",
   "execution_count": 28,
   "metadata": {
    "scrolled": true
   },
   "outputs": [
    {
     "name": "stdout",
     "output_type": "stream",
     "text": [
      "Train on 15000 samples, validate on 10000 samples\n",
      "Epoch 1/20\n",
      "15000/15000 [==============================] - 15s 989us/step - loss: 5.9159 - val_loss: 11.5948\n",
      "Epoch 2/20\n",
      "15000/15000 [==============================] - 13s 900us/step - loss: 5.4863 - val_loss: 12.3714\n",
      "Epoch 3/20\n",
      "15000/15000 [==============================] - 14s 907us/step - loss: 5.3018 - val_loss: 12.3644\n",
      "Epoch 4/20\n",
      "15000/15000 [==============================] - 14s 902us/step - loss: 5.1080 - val_loss: 13.1282\n",
      "Epoch 5/20\n",
      "15000/15000 [==============================] - 13s 892us/step - loss: 4.9232 - val_loss: 13.7776\n",
      "Epoch 6/20\n",
      "15000/15000 [==============================] - 13s 877us/step - loss: 4.7648 - val_loss: 14.2207\n",
      "Epoch 7/20\n",
      "15000/15000 [==============================] - 13s 888us/step - loss: 4.6271 - val_loss: 14.3252\n",
      "Epoch 8/20\n",
      "15000/15000 [==============================] - 13s 867us/step - loss: 4.4919 - val_loss: 14.3828\n",
      "Epoch 9/20\n",
      "15000/15000 [==============================] - 13s 864us/step - loss: 4.3682 - val_loss: 14.4046\n",
      "Epoch 10/20\n",
      "15000/15000 [==============================] - 13s 860us/step - loss: 4.2496 - val_loss: 14.4389\n",
      "Epoch 11/20\n",
      "15000/15000 [==============================] - 13s 861us/step - loss: 4.1511 - val_loss: 14.4351\n",
      "Epoch 12/20\n",
      "15000/15000 [==============================] - 13s 862us/step - loss: 4.0586 - val_loss: 14.4270\n",
      "Epoch 13/20\n",
      "15000/15000 [==============================] - 13s 860us/step - loss: 3.9565 - val_loss: 14.4299\n",
      "Epoch 14/20\n",
      "15000/15000 [==============================] - 13s 860us/step - loss: 3.8562 - val_loss: 14.4287\n",
      "Epoch 15/20\n",
      "15000/15000 [==============================] - 13s 862us/step - loss: 3.7782 - val_loss: 14.4358\n",
      "Epoch 16/20\n",
      "15000/15000 [==============================] - 13s 875us/step - loss: 3.6967 - val_loss: 14.4234\n",
      "Epoch 17/20\n",
      "15000/15000 [==============================] - 13s 860us/step - loss: 3.6141 - val_loss: 14.4245\n",
      "Epoch 18/20\n",
      "15000/15000 [==============================] - 13s 861us/step - loss: 3.5397 - val_loss: 14.4207\n",
      "Epoch 19/20\n",
      "15000/15000 [==============================] - 13s 860us/step - loss: 3.4748 - val_loss: 14.4106\n",
      "Epoch 20/20\n",
      "15000/15000 [==============================] - 13s 860us/step - loss: 3.4027 - val_loss: 14.4181\n"
     ]
    }
   ],
   "source": [
    "model_I.compile(optimizer='adam', loss='sparse_categorical_crossentropy', sample_weight_mode='temporal')\n",
    "history_I = model_I.fit(X_train, Y_train, epochs=20, batch_size=256,validation_data=(X_val, Y_val), sample_weight = sample_weight, verbose=1)"
   ]
  },
  {
   "cell_type": "code",
   "execution_count": 31,
   "metadata": {},
   "outputs": [
    {
     "data": {
      "image/png": "[encoded data removed]",
      "text/plain": [
       "<Figure size 1440x360 with 1 Axes>"
      ]
     },
     "metadata": {
      "needs_background": "light"
     },
     "output_type": "display_data"
    }
   ],
   "source": [
    "chart_loss(history_I, 20, \"I\")"
   ]
  },
  {
   "cell_type": "code",
   "execution_count": 32,
   "metadata": {},
   "outputs": [
    {
     "name": "stdout",
     "output_type": "stream",
     "text": [
      "Texto source:  i want to rest\n",
      "Texto target real:  quiero descansar #end\n",
      "Texto target predicho:  quiero #end\n",
      "\n",
      "\n",
      "Texto source:  we believe in god\n",
      "Texto target real:  nosotros en dios #end\n",
      "Texto target predicho:  estamos en en #end\n",
      "\n",
      "\n",
      "Texto source:  ive been playing soccer since i was fifteen\n",
      "Texto target real:  he fútbol desde que tenía quince años #end\n",
      "Texto target predicho:  me estaba estaba que que #end\n",
      "\n",
      "\n",
      "Texto source:  read as many newspapers as you can so as to keep up with the times\n",
      "Texto target real:  lee tantos periódicos como puedas para al día #end\n",
      "Texto target predicho:  el el el el el el el como como como como como como como como como como #end\n",
      "\n",
      "\n",
      "Texto source:  just then the bus stopped\n",
      "Texto target real:  justo en ese momento el bus se detuvo #end\n",
      "Texto target predicho:  la la de de la #end\n",
      "\n",
      "\n"
     ]
    }
   ],
   "source": [
    "show_predictions(model_I)"
   ]
  },
  {
   "cell_type": "markdown",
   "metadata": {},
   "source": [
    "La modificación realizada fue añadir una capa de Dropout antes de la capa softmax, esto con la esperanza que se detuviera el overfitting. Al ver los resultados se aprecia que aquello no se logra y que los valores de la función de perdida en entrenamiento y validación no sufren mayores cambios"
   ]
  },
  {
   "cell_type": "markdown",
   "metadata": {},
   "source": [
    "## j)\n",
    "A pesar de que la tarea de medir qué tan similar es un texto a otro ya es un área de investigación propia [[6]](#refs), usted deberá utilizar alguna métrica de desempeño para ver qué tan buena es la traducción del texto *versus* el texto real entregado. Debido a que la métrica de *Exact Matching* (EM) puede ser muy drástica, mida *f1 score* por texto además de proponer alguna otra técnica de evaluación para medir sobre el conjunto de pruebas y los otros conjuntos si estima conveniente. Puede basarse en otros trabajos como *Image captioning* o *Text summary*. \n",
    "*Hint: Debido a los problemas de memoria al realizar un forward-pass, solo seleccione un subconjunto $N_{sub}$ del conjunto de pruebas para realizar ésta evaluación, se aconseja entre 1000 y 5000.*"
   ]
  },
  {
   "cell_type": "code",
   "execution_count": 34,
   "metadata": {},
   "outputs": [
    {
     "name": "stdout",
     "output_type": "stream",
     "text": [
      "F1-Score: 53.01893411484742\n"
     ]
    }
   ],
   "source": [
    "from sklearn.preprocessing import MultiLabelBinarizer\n",
    "from sklearn.metrics import f1_score, precision_score, recall_score\n",
    "m = MultiLabelBinarizer().fit([np.arange(n_words_t)]) \n",
    "def calculate_f1(true, pred):\n",
    "    true = np.squeeze(true)\n",
    "    pred = np.squeeze(pred)\n",
    "    binarized_true = m.transform([predict_words(true)])[0] #onehot of words appear\n",
    "    binarized_pred = m.transform([predict_words(pred)])[0] #onehot of words appear\n",
    "    return f1_score(binarized_true, binarized_pred, average='binary') #only on appearing words\n",
    "\n",
    "def get_f1_score(model, X, Y):\n",
    "    n_s = 1500 # Número de ejemplos para calcular\n",
    "    idx = np.random.choice(np.arange(Y.shape[0]), size=n_s, replace=False)\n",
    "    Y_pred = model.predict_classes(X[idx])\n",
    "\n",
    "    f1_final = np.mean([calculate_f1(true_words,pred_words) for true_words,pred_words in zip(Y[idx],Y_pred)])\n",
    "    \n",
    "    return f1_final*100 #porcentaje\n",
    "\n",
    "print(\"F1-Score:\", get_f1_score(model_I, X_val, Y_val))\n",
    "\n"
   ]
  },
  {
   "cell_type": "markdown",
   "metadata": {},
   "source": [
    "## k)\n",
    "En ves de volver a variar el modelo de *Encoder*, dejaremos una representación manual explícita (*no entrenable*) a través de extraer características manuales de los textos *source*, como por ejemplo representaciones *term frequency* (TF) o TF-IDF, proporcionadas a través de __[sklearn](https://scikit-learn.org/stable/modules/classes.html#module-sklearn.feature_extraction.text)__. Luego, con esto generado, defina y entrene el modelo *Decoder* neuronal como el presentado en las preguntas anteriores, ésto es comenzar desde la capa *RepeatVector* hasta llegar a la clasificación sobre el texto *target*. Compare el desempeño con lo presentado en (j) y lo visualizado en (h)."
   ]
  },
  {
   "cell_type": "code",
   "execution_count": 35,
   "metadata": {},
   "outputs": [],
   "source": [
    "from sklearn.feature_extraction.text import TfidfVectorizer\n",
    "def dummy_fun(doc):\n",
    "    return doc\n",
    "tf_idf = TfidfVectorizer(analyzer='word',tokenizer=dummy_fun,preprocessor=dummy_fun,\n",
    "                         token_pattern=None,use_idf= True, smooth_idf=True, norm='l2') \n",
    "\n",
    "\n",
    "train_length = len(dataX_train)\n",
    "\n",
    "temp = tf_idf.fit_transform(dataX_train+dataX_val).astype('float32').todense()\n",
    "\n",
    "X_train_tfidf = temp[:train_length,:]\n",
    "X_val_tfidf = temp[train_length:, :]"
   ]
  },
  {
   "cell_type": "code",
   "execution_count": 36,
   "metadata": {},
   "outputs": [
    {
     "name": "stdout",
     "output_type": "stream",
     "text": [
      "(15000, 2412)\n",
      "(10000, 2412)\n"
     ]
    }
   ],
   "source": [
    "print(X_train_tfidf.shape)\n",
    "print(X_val_tfidf.shape)"
   ]
  },
  {
   "cell_type": "code",
   "execution_count": 37,
   "metadata": {},
   "outputs": [
    {
     "name": "stdout",
     "output_type": "stream",
     "text": [
      "[[0.37679997 0.40736797 0.27443227 ... 0.         0.         0.        ]\n",
      " [0.         0.         0.         ... 0.         0.         0.        ]\n",
      " [0.         0.         0.         ... 0.         0.         0.        ]\n",
      " ...\n",
      " [0.         0.         0.         ... 0.         0.         0.        ]\n",
      " [0.         0.         0.         ... 0.         0.         0.        ]\n",
      " [0.         0.         0.         ... 0.         0.         0.        ]]\n"
     ]
    }
   ],
   "source": [
    "print(X_train_tfidf)"
   ]
  },
  {
   "cell_type": "code",
   "execution_count": 38,
   "metadata": {},
   "outputs": [
    {
     "name": "stdout",
     "output_type": "stream",
     "text": [
      "_________________________________________________________________\n",
      "Layer (type)                 Output Shape              Param #   \n",
      "=================================================================\n",
      "repeat_vector_5 (RepeatVecto (None, 45, 2412)          0         \n",
      "_________________________________________________________________\n",
      "cu_dnngru_8 (CuDNNGRU)       (None, 45, 256)           2050560   \n",
      "_________________________________________________________________\n",
      "dropout_2 (Dropout)          (None, 45, 256)           0         \n",
      "_________________________________________________________________\n",
      "time_distributed_5 (TimeDist (None, 45, 3036)          780252    \n",
      "=================================================================\n",
      "Total params: 2,830,812\n",
      "Trainable params: 2,830,812\n",
      "Non-trainable params: 0\n",
      "_________________________________________________________________\n"
     ]
    }
   ],
   "source": [
    "from keras.layers import InputLayer\n",
    "model_K = Sequential()\n",
    "\n",
    "model_K.add(InputLayer(input_shape=(X_train_tfidf.shape[1], )))\n",
    "model_K.add(RepeatVector(max_out_length)) #conection\n",
    "\n",
    "model_K.add(CuDNNGRU(256, return_sequences=True))\n",
    "model_K.add(Dropout(0.25)) # Se añade Dropout esperando un efecto regularizador\n",
    "model_K.add(TimeDistributed(Dense(n_words_t, activation='softmax')))\n",
    "model_K.summary() "
   ]
  },
  {
   "cell_type": "code",
   "execution_count": 39,
   "metadata": {
    "scrolled": true
   },
   "outputs": [
    {
     "name": "stdout",
     "output_type": "stream",
     "text": [
      "Train on 15000 samples, validate on 10000 samples\n",
      "Epoch 1/20\n",
      "15000/15000 [==============================] - 17s 1ms/step - loss: 6.7452 - val_loss: 14.6926\n",
      "Epoch 2/20\n",
      "15000/15000 [==============================] - 16s 1ms/step - loss: 5.9465 - val_loss: 14.6696\n",
      "Epoch 3/20\n",
      "15000/15000 [==============================] - 16s 1ms/step - loss: 5.7924 - val_loss: 14.6557\n",
      "Epoch 4/20\n",
      "15000/15000 [==============================] - 16s 1ms/step - loss: 5.6520 - val_loss: 14.6334\n",
      "Epoch 5/20\n",
      "15000/15000 [==============================] - 16s 1ms/step - loss: 5.4963 - val_loss: 14.6157\n",
      "Epoch 6/20\n",
      "15000/15000 [==============================] - 16s 1ms/step - loss: 5.3957 - val_loss: 14.6051\n",
      "Epoch 7/20\n",
      "15000/15000 [==============================] - 16s 1ms/step - loss: 5.3053 - val_loss: 14.5918\n",
      "Epoch 8/20\n",
      "15000/15000 [==============================] - 17s 1ms/step - loss: 5.1891 - val_loss: 14.5764\n",
      "Epoch 9/20\n",
      "15000/15000 [==============================] - 16s 1ms/step - loss: 5.0558 - val_loss: 14.5595\n",
      "Epoch 10/20\n",
      "15000/15000 [==============================] - 16s 1ms/step - loss: 4.9188 - val_loss: 14.5427\n",
      "Epoch 11/20\n",
      "15000/15000 [==============================] - 16s 1ms/step - loss: 4.7776 - val_loss: 14.5258\n",
      "Epoch 12/20\n",
      "15000/15000 [==============================] - 16s 1ms/step - loss: 4.6307 - val_loss: 14.5094\n",
      "Epoch 13/20\n",
      "15000/15000 [==============================] - 16s 1ms/step - loss: 4.4775 - val_loss: 14.4918\n",
      "Epoch 14/20\n",
      "15000/15000 [==============================] - 16s 1ms/step - loss: 4.3234 - val_loss: 14.4750\n",
      "Epoch 15/20\n",
      "15000/15000 [==============================] - 17s 1ms/step - loss: 4.1741 - val_loss: 14.4607\n",
      "Epoch 16/20\n",
      "15000/15000 [==============================] - 16s 1ms/step - loss: 4.0186 - val_loss: 14.4463\n",
      "Epoch 17/20\n",
      "15000/15000 [==============================] - 16s 1ms/step - loss: 3.8743 - val_loss: 14.4313\n",
      "Epoch 18/20\n",
      "15000/15000 [==============================] - 17s 1ms/step - loss: 3.7334 - val_loss: 14.4191\n",
      "Epoch 19/20\n",
      "15000/15000 [==============================] - 17s 1ms/step - loss: 3.6019 - val_loss: 14.4102\n",
      "Epoch 20/20\n",
      "15000/15000 [==============================] - 16s 1ms/step - loss: 3.4768 - val_loss: 14.3992\n"
     ]
    }
   ],
   "source": [
    "model_K.compile(optimizer='adam', loss='sparse_categorical_crossentropy', sample_weight_mode='temporal')\n",
    "history_k = model_K.fit(X_train_tfidf, Y_train, epochs=20, batch_size=256,validation_data=(X_val_tfidf, Y_val), sample_weight = sample_weight, verbose=1)"
   ]
  },
  {
   "cell_type": "code",
   "execution_count": 40,
   "metadata": {},
   "outputs": [
    {
     "data": {
      "image/png": "[encoded data removed]",
      "text/plain": [
       "<Figure size 1440x360 with 1 Axes>"
      ]
     },
     "metadata": {
      "needs_background": "light"
     },
     "output_type": "display_data"
    }
   ],
   "source": [
    "chart_loss(history_k, 20, \"K\")"
   ]
  },
  {
   "cell_type": "code",
   "execution_count": 41,
   "metadata": {},
   "outputs": [
    {
     "name": "stdout",
     "output_type": "stream",
     "text": [
      "Texto source:  and deal with the study of life\n",
      "Texto target real:  la y la sobre el estudio de la vida #end\n",
      "Texto target predicho:  la la con con con con con #end\n",
      "\n",
      "\n",
      "Texto source:  the weather says it will be tomorrow\n",
      "Texto target real:  el del clima dice que estará más helado mañana #end\n",
      "Texto target predicho:  el que que mañana mañana mañana #end\n",
      "\n",
      "\n",
      "Texto source:  i was late for school this morning\n",
      "Texto target real:  esta mañana llegué tarde a la escuela #end\n",
      "Texto target predicho:  esta mañana esta esta esta mañana tarde #end\n",
      "\n",
      "\n",
      "Texto source:  im being good to you this morning\n",
      "Texto target real:  yo estoy siendo bueno contigo esta mañana #end\n",
      "Texto target predicho:  estoy que esta esta esta esta mañana mañana mañana #end\n",
      "\n",
      "\n",
      "Texto source:  i hope your wishes will come true\n",
      "Texto target real:  espero que tus se hagan realidad #end\n",
      "Texto target predicho:  espero que que que #end\n",
      "\n",
      "\n"
     ]
    }
   ],
   "source": [
    "def show_predictions_2(model, number_of_examples = 5):\n",
    "    n_s = number_of_examples\n",
    "    idx = np.random.choice(np.arange(Y_val.shape[0]), size=n_s, replace=False)\n",
    "    Y_pred = model.predict_classes(X_val_tfidf[idx] )\n",
    "    for i, n_sampled in enumerate(idx):\n",
    "        text_input = [idx2word_s[p] for p in predict_words(X_val[n_sampled], data=\"source\")]\n",
    "        print(\"Texto source: \", ' '.join(text_input))\n",
    "        text_real = [idx2word_t[p] for p in predict_words(Y_val[n_sampled,:,0], data=\"target\")]\n",
    "        print(\"Texto target real: \", ' '.join( text_real))\n",
    "        text_sampled = [idx2word_t[p] for p in predict_words(Y_pred[i], data=\"target\")]\n",
    "        print(\"Texto target predicho: \", ' '.join(text_sampled))\n",
    "        print('\\n')\n",
    "show_predictions_2(model_K)"
   ]
  },
  {
   "cell_type": "code",
   "execution_count": 42,
   "metadata": {},
   "outputs": [
    {
     "name": "stdout",
     "output_type": "stream",
     "text": [
      "F1-Score: 52.88331163447262\n"
     ]
    }
   ],
   "source": [
    "print(\"F1-Score:\", get_f1_score(model_K, X_val_tfidf, Y_val))"
   ]
  },
  {
   "cell_type": "markdown",
   "metadata": {},
   "source": [
    "Al ver el resultado se aprecia que en esta red también hay presencia de overfitting, pero al menos se ve una tendencia de que el error de validación va disminuyendo muy lentamente.\n",
    "\n",
    "En terminos del F1-Score no hay gran mejora."
   ]
  },
  {
   "cell_type": "markdown",
   "metadata": {},
   "source": [
    "# Referencias\n",
    "[1] Language Translation with RNNs. (2019). Medium. Retrieved 1 August 2019, from https://towardsdatascience.com/language-translation-with-rnns-d84d43b40571\n",
    "\n",
    "[2] Engish to Hindi translate using Keras | Kaggle. (2019). Kaggle.com. Retrieved 1 August 2019, from https://www.kaggle.com/harishreddy18/engish-to-hindi-translate-using-keras?fbclid=IwAR1Z9i_bXmNvdLD8C3kcLz7fQZFmDjWpSWw_wp6SskBSnkTZDGS7-ZxRKYY"
   ]
  }
 ],
 "metadata": {
  "kernelspec": {
   "display_name": "Python 3",
   "language": "python",
   "name": "python3"
  },
  "language_info": {
   "codemirror_mode": {
    "name": "ipython",
    "version": 3
   },
   "file_extension": ".py",
   "mimetype": "text/x-python",
   "name": "python",
   "nbconvert_exporter": "python",
   "pygments_lexer": "ipython3",
   "version": "3.6.8"
  }
 },
 "nbformat": 4,
 "nbformat_minor": 2
}
