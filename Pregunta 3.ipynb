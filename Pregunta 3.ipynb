{
 "cells": [
  {
   "cell_type": "markdown",
   "metadata": {},
   "source": [
    "# Tarea 2, pregunta 3: \"Encoder-Decoder sobre Texto\"\n",
    "\n",
    "## Integrantes\n",
    "\n",
    "* _**Francisco Olivares - 201473575-8 - fracisco.olivars.14@sansano.usm.cl**_\n",
    "* _**Felipe Vega - 201473511-1 - felipe.vega.14@sansano.usm.cl**_"
   ]
  },
  {
   "cell_type": "code",
   "execution_count": 14,
   "metadata": {},
   "outputs": [
    {
     "data": {
      "text/html": [
       "<style>.container { width:95% !important; }</style>"
      ],
      "text/plain": [
       "<IPython.core.display.HTML object>"
      ]
     },
     "metadata": {},
     "output_type": "display_data"
    },
    {
     "data": {
      "text/html": [
       "<style>.text_cell_render p, .text_cell_render li { font-size: 12.5pt !important; }</style>"
      ],
      "text/plain": [
       "<IPython.core.display.HTML object>"
      ]
     },
     "metadata": {},
     "output_type": "display_data"
    },
    {
     "data": {
      "text/html": [
       "<style>.text_cell_render li { margin: 0 0 10px 0; }</style>"
      ],
      "text/plain": [
       "<IPython.core.display.HTML object>"
      ]
     },
     "metadata": {},
     "output_type": "display_data"
    }
   ],
   "source": [
    "#Librerías\n",
    "import pandas as pd\n",
    "import numpy as np\n",
    "import matplotlib.pyplot as plt\n",
    "\n",
    "# Tensorflow GPU stuff :v\n",
    "import tensorflow as tf\n",
    "config = tf.ConfigProto()\n",
    "config.gpu_options.allow_growth=True\n",
    "sess = tf.Session(config=config)\n",
    "\n",
    "# Modificar estilos de jupyter\n",
    "from IPython.display import IFrame\n",
    "from IPython.core.display import display, HTML\n",
    "display(HTML(\"<style>.container { width:95% !important; }</style>\"))\n",
    "display(HTML(\"<style>.text_cell_render p, .text_cell_render li { font-size: 12.5pt !important; }</style>\"))\n",
    "display(HTML(\"<style>.text_cell_render li { margin: 0 0 10px 0; }</style>\"))\n",
    "\n",
    "# Tamaño fuente matplotlib\n",
    "font = {'family' : 'normal', 'weight' : 'normal', 'size'   : 14}\n",
    "import matplotlib\n",
    "matplotlib.rc('font', **font)"
   ]
  },
  {
   "cell_type": "code",
   "execution_count": 15,
   "metadata": {},
   "outputs": [
    {
     "data": {
      "text/html": [
       "<div>\n",
       "<style scoped>\n",
       "    .dataframe tbody tr th:only-of-type {\n",
       "        vertical-align: middle;\n",
       "    }\n",
       "\n",
       "    .dataframe tbody tr th {\n",
       "        vertical-align: top;\n",
       "    }\n",
       "\n",
       "    .dataframe thead th {\n",
       "        text-align: right;\n",
       "    }\n",
       "</style>\n",
       "<table border=\"1\" class=\"dataframe\">\n",
       "  <thead>\n",
       "    <tr style=\"text-align: right;\">\n",
       "      <th></th>\n",
       "      <th>Source</th>\n",
       "      <th>Target</th>\n",
       "    </tr>\n",
       "  </thead>\n",
       "  <tbody>\n",
       "    <tr>\n",
       "      <th>0</th>\n",
       "      <td>Go.</td>\n",
       "      <td>Ve.</td>\n",
       "    </tr>\n",
       "    <tr>\n",
       "      <th>1</th>\n",
       "      <td>Go.</td>\n",
       "      <td>Vete.</td>\n",
       "    </tr>\n",
       "    <tr>\n",
       "      <th>2</th>\n",
       "      <td>Go.</td>\n",
       "      <td>Vaya.</td>\n",
       "    </tr>\n",
       "    <tr>\n",
       "      <th>3</th>\n",
       "      <td>Go.</td>\n",
       "      <td>Váyase.</td>\n",
       "    </tr>\n",
       "    <tr>\n",
       "      <th>4</th>\n",
       "      <td>Hi.</td>\n",
       "      <td>Hola.</td>\n",
       "    </tr>\n",
       "  </tbody>\n",
       "</table>\n",
       "</div>"
      ],
      "text/plain": [
       "  Source   Target\n",
       "0    Go.      Ve.\n",
       "1    Go.    Vete.\n",
       "2    Go.    Vaya.\n",
       "3    Go.  Váyase.\n",
       "4    Hi.    Hola."
      ]
     },
     "metadata": {},
     "output_type": "display_data"
    },
    {
     "data": {
      "text/plain": [
       "(123376, 2)"
      ]
     },
     "execution_count": 15,
     "metadata": {},
     "output_type": "execute_result"
    }
   ],
   "source": [
    "# Se importa el dataset\n",
    "import pandas as pd\n",
    "df = pd.read_csv(\"dataset_3/spa.txt\", sep=\"\\t\", names=[\"Source\",\"Target\"])\n",
    "display(df.head())\n",
    "df.shape"
   ]
  },
  {
   "cell_type": "markdown",
   "metadata": {},
   "source": [
    "## a)\n",
    "Visualice los datos ¿Qué es la entrada y qué es la salida? Comente sobre los múltiples significados/sinónimos que puede tener una palabra al ser traducida y cómo propondría arreglar eso. *se espera que pueda implementarlo*"
   ]
  },
  {
   "cell_type": "code",
   "execution_count": 16,
   "metadata": {},
   "outputs": [
    {
     "data": {
      "text/html": [
       "<div>\n",
       "<style scoped>\n",
       "    .dataframe tbody tr th:only-of-type {\n",
       "        vertical-align: middle;\n",
       "    }\n",
       "\n",
       "    .dataframe tbody tr th {\n",
       "        vertical-align: top;\n",
       "    }\n",
       "\n",
       "    .dataframe thead th {\n",
       "        text-align: right;\n",
       "    }\n",
       "</style>\n",
       "<table border=\"1\" class=\"dataframe\">\n",
       "  <thead>\n",
       "    <tr style=\"text-align: right;\">\n",
       "      <th></th>\n",
       "      <th>Source</th>\n",
       "      <th>Target</th>\n",
       "    </tr>\n",
       "  </thead>\n",
       "  <tbody>\n",
       "    <tr>\n",
       "      <th>123371</th>\n",
       "      <td>There are mothers and fathers who will lie awa...</td>\n",
       "      <td>Hay madres y padres que se quedan despiertos d...</td>\n",
       "    </tr>\n",
       "    <tr>\n",
       "      <th>123372</th>\n",
       "      <td>A carbon footprint is the amount of carbon dio...</td>\n",
       "      <td>Una huella de carbono es la cantidad de contam...</td>\n",
       "    </tr>\n",
       "    <tr>\n",
       "      <th>123373</th>\n",
       "      <td>Since there are usually multiple websites on a...</td>\n",
       "      <td>Como suele haber varias páginas web sobre cual...</td>\n",
       "    </tr>\n",
       "    <tr>\n",
       "      <th>123374</th>\n",
       "      <td>If you want to sound like a native speaker, yo...</td>\n",
       "      <td>Si quieres sonar como un hablante nativo, debe...</td>\n",
       "    </tr>\n",
       "    <tr>\n",
       "      <th>123375</th>\n",
       "      <td>It may be impossible to get a completely error...</td>\n",
       "      <td>Puede que sea imposible obtener un corpus comp...</td>\n",
       "    </tr>\n",
       "  </tbody>\n",
       "</table>\n",
       "</div>"
      ],
      "text/plain": [
       "                                                   Source  \\\n",
       "123371  There are mothers and fathers who will lie awa...   \n",
       "123372  A carbon footprint is the amount of carbon dio...   \n",
       "123373  Since there are usually multiple websites on a...   \n",
       "123374  If you want to sound like a native speaker, yo...   \n",
       "123375  It may be impossible to get a completely error...   \n",
       "\n",
       "                                                   Target  \n",
       "123371  Hay madres y padres que se quedan despiertos d...  \n",
       "123372  Una huella de carbono es la cantidad de contam...  \n",
       "123373  Como suele haber varias páginas web sobre cual...  \n",
       "123374  Si quieres sonar como un hablante nativo, debe...  \n",
       "123375  Puede que sea imposible obtener un corpus comp...  "
      ]
     },
     "metadata": {},
     "output_type": "display_data"
    }
   ],
   "source": [
    "display(df.tail())"
   ]
  },
  {
   "cell_type": "markdown",
   "metadata": {},
   "source": [
    "## b)\n",
    "Realice un pre-procesamiento a los textos como se acostumbra para eliminar símbolos inecesarios u otras cosas que estime conveniente, comente sobre la importancia de éste paso. Además de ésto deberá agregar un símbolo al final de la sentencia *target* para indicar un \"alto\" cuando la red neuronal necesite aprender a generar una sentencia."
   ]
  },
  {
   "cell_type": "code",
   "execution_count": 17,
   "metadata": {},
   "outputs": [],
   "source": [
    "import string\n",
    "table = str.maketrans('', '', string.punctuation) \n",
    "def clean_text(text, where=None):\n",
    "    \"\"\" OJO: Sin eliminar el significado de las palabras.\"\"\"\n",
    "    text = text.lower()\n",
    "    tokenize_text = text.split()\n",
    "    tokenize_text = [word.translate(table) for word in tokenize_text]#eliminar puntuacion\n",
    "    tokenize_text = [word for word in tokenize_text if word.isalpha()] #remove numbers\n",
    "    if where ==\"target\":\n",
    "        tokenize_text = tokenize_text + [\"#end\"] \n",
    "    return tokenize_text\n",
    "texts_input = list(df['Source'].apply(clean_text))\n",
    "texts_output = list(df['Target'].apply(clean_text, where='target'))"
   ]
  },
  {
   "cell_type": "code",
   "execution_count": 18,
   "metadata": {},
   "outputs": [],
   "source": [
    "from sklearn.model_selection import train_test_split\n",
    "X_train_l, X_test_l, Y_train_l, Y_test_l = train_test_split(texts_input, texts_output,\n",
    "                                                            test_size=5000, random_state=22)\n",
    "X_train_l, X_val_l, Y_train_l, Y_val_l = train_test_split(X_train_l, Y_train_l, \n",
    "                                                          test_size=5000, random_state=22)\n",
    "\n",
    "\n",
    "idx = np.random.choice(np.arange(len(X_train_l)), 15000, replace=False)\n",
    "X_train_l = np.asarray(X_train_l)[idx]\n",
    "Y_train_l = np.asarray(Y_train_l)[idx]"
   ]
  },
  {
   "cell_type": "markdown",
   "metadata": {},
   "source": [
    "## c)\n",
    "Genere un vocabulario, **desde el conjunto de entrenamiento**, sobre las palabras a recibir y generar en la traducción, esto es codificarlas a un valor entero que servirá para que la red las vea en una representación útil a procesar, *comience desde el 1 debido a que el cero será utilizado más adelante*. Para reducir el vocabulario considere las palabras que aparecen un mínimo de *min_count* veces en todo los datos, se aconseja un valor de 3. Comente sobre la importancia de ésto al reducir el vocabulario ¿De qué tamaño es el vocabulario de entrada y salida? ¿La diferencia de ésto podría ser un factor importante?"
   ]
  },
  {
   "cell_type": "code",
   "execution_count": 19,
   "metadata": {},
   "outputs": [],
   "source": [
    "def create_vocab(texts, min_count=1):\n",
    "    count_vocab = {}\n",
    "    for sentence in texts:\n",
    "        for word in sentence:\n",
    "            if word not in count_vocab:\n",
    "                count_vocab[word] = 1\n",
    "            else:\n",
    "                count_vocab[word] += 1\n",
    "    return [word for word,count in count_vocab.items() if count >= min_count]\n",
    "\n",
    "vocab_source = create_vocab(X_train_l, min_count=4)\n",
    "word2idx_s = {w: i+1 for i, w in enumerate(vocab_source)} #index (i+1) start from 1,2,3,...\n",
    "idx2word_s = {i+1: w for i, w in enumerate(vocab_source)}\n",
    "n_words_s = len(vocab_source)\n",
    "vocab_target = create_vocab(Y_train_l, min_count=3)\n",
    "word2idx_t = {w: i+1 for i, w in enumerate(vocab_target)}  #Converting text to numbers\n",
    "idx2word_t = {i+1 : w for i, w in enumerate(vocab_target)}\n",
    "n_words_t = len(vocab_target)"
   ]
  },
  {
   "cell_type": "markdown",
   "metadata": {},
   "source": [
    "Ahora codifique las palabras a los números indexados con el vocabulario. Recuerde que si una palabra en los otros conjuntos, o en el mismo de entrenamiento, no aparece en el vocabulario no se podrá generar una codificación, por lo que será **ignorada** ¿Cómo se podría evitar ésto?"
   ]
  },
  {
   "cell_type": "code",
   "execution_count": 20,
   "metadata": {},
   "outputs": [],
   "source": [
    "\"\"\" Source/input data \"\"\"\n",
    "\n",
    "def convert_text_to_index(X, vocabulary):\n",
    "    transformed_data = list()\n",
    "    for sentence in X:\n",
    "        words_in_vocabulary = True\n",
    "        trasnformed_sentence = []\n",
    "        for word in sentence:\n",
    "            if word in vocabulary:\n",
    "                trasnformed_sentence.append(vocabulary[word])\n",
    "            else:\n",
    "                words_in_vocabulary = False\n",
    "                break\n",
    "        if words_in_vocabulary:\n",
    "            transformed_data.append(trasnformed_sentence)\n",
    "            \n",
    "    return transformed_data\n",
    "            \n",
    "dataX_train = [[word2idx_s[word] for word in sent if word in word2idx_s] for sent in X_train_l]\n",
    "dataX_val = [[word2idx_s[word] for word in sent if word in word2idx_s] for sent in X_val_l]\n",
    "dataX_test = [[word2idx_s[word] for word in sent if word in word2idx_s] for sent in X_test_l]\n",
    "\n",
    "\n",
    "# dataX_train_2 = convert_text_to_index(X_train_l, word2idx_s)\n",
    "# dataX_valid_2 = convert_text_to_index(X_val_l, word2idx_s)\n",
    "# dataX_test_2 = convert_text_to_index(X_test_l, word2idx_s)\n",
    "\"\"\" Target/output data \"\"\"\n",
    "dataY_train = [[word2idx_t[word] for word in sent if word in word2idx_t] for sent in Y_train_l]\n",
    "dataY_val = [[word2idx_t[word] for word in sent if word in word2idx_t] for sent in Y_val_l] \n",
    "dataY_test = [[word2idx_t[word] for word in sent if word in word2idx_t] for sent in Y_test_l] "
   ]
  },
  {
   "cell_type": "markdown",
   "metadata": {},
   "source": [
    "Se podría evitar generando el vocabulario a partir de TODO el dataset antes de particionarlo en los distintos conjuntos de entrenamiento, validación y testing. Así se debería disminuir la posibilidad de que una palabra no se encuentre presente en el vocabulario. Otra cosa que se podría hacer es disminuir la cantidad mínima de ocurrencias de una palabra para que esta sea conciderada en el vocabulario, actualmente está puesto en 3."
   ]
  },
  {
   "cell_type": "markdown",
   "metadata": {},
   "source": [
    "## d)\n",
    "Debido al largo variable de los textos de entrada y salida será necesario estandarizar ésto para poder trabajar de manera más cómoda en Keras, *cada texto (entrada y salida) pueden tener distinto largo máximo*. Comente sobre la decisión del tipo de *padding*, *pre o post* ¿Qué sucede al variar el largo máximo de instantes de tiempo para procesar en cada parte del modelo (entrada y salida)?"
   ]
  },
  {
   "cell_type": "code",
   "execution_count": 21,
   "metadata": {},
   "outputs": [
    {
     "name": "stdout",
     "output_type": "stream",
     "text": [
      "Largo max inp:  29\n",
      "Largo max out:  29\n"
     ]
    }
   ],
   "source": [
    "from keras.preprocessing import sequence\n",
    "\"\"\" INPUT DATA (Origin language) \"\"\"\n",
    "max_inp_length = max(map(len, dataX_train)) # Se saca el largo de la sentencia más larga\n",
    "print(\"Largo max inp: \", max_inp_length)\n",
    "word2idx_s[\"PAD\"] = 0 #padding symbol\n",
    "idx2word_s[0] = \"PAD\"\n",
    "n_words_s += 1  \n",
    "\n",
    "# Se procede a aplicar el padding\n",
    "X_train = sequence.pad_sequences(dataX_train, maxlen=max_inp_length, padding='pre', value=word2idx_s[\"PAD\"])\n",
    "X_val = sequence.pad_sequences(dataX_val, maxlen=max_inp_length, padding='pre', value=word2idx_s[\"PAD\"])\n",
    "X_test = sequence.pad_sequences(dataX_test, maxlen=max_inp_length, padding='pre', value=word2idx_s[\"PAD\"])\n",
    "\n",
    "\"\"\" OUTPUT DATA (Destination language) \"\"\"\n",
    "max_out_length = max(map(len,dataY_train)) \n",
    "print(\"Largo max out: \",max_out_length)\n",
    "word2idx_t[\"PAD\"] = 0 #padding symbol\n",
    "idx2word_t[0] = \"PAD\"\n",
    "n_words_t += 1  \n",
    "Y_train = sequence.pad_sequences(dataY_train, maxlen=max_out_length, padding='post', value=word2idx_t[\"PAD\"])\n",
    "Y_val = sequence.pad_sequences(dataY_val, maxlen=max_out_length, padding='post', value=word2idx_t[\"PAD\"])\n",
    "Y_test = sequence.pad_sequences(dataY_test, maxlen=max_out_length, padding='post', value=word2idx_t[\"PAD\"])"
   ]
  },
  {
   "cell_type": "markdown",
   "metadata": {},
   "source": [
    "## e)\n",
    "Para evitar que la red obtenga una ganancia por imitar/predecir el símbolo de *padding* que está bastante presente en los datos coloque un peso sobre éste clase, con valor 0, así se evita que tenga impacto en la función objetivo. Ya que *keras* no soporta directamente ésto en series de tiempo coloque el peso a cada instante de tiempo de cada dato de entrenamiento dependiendo de su clase. Comente sobre alguna otra forma en que se podría manejar el evitar que la red prediga en mayoría el símbolo de *padding*."
   ]
  },
  {
   "cell_type": "code",
   "execution_count": 22,
   "metadata": {},
   "outputs": [],
   "source": [
    "c_weights = np.ones(n_words_t)\n",
    "c_weights[0] = 0 #padding class masked\n",
    "sample_weight = np.zeros(Y_train.shape)\n",
    "for i in range(sample_weight.shape[0]):\n",
    "    sample_weight[i] = c_weights[Y_train[i,:]]"
   ]
  },
  {
   "cell_type": "code",
   "execution_count": 23,
   "metadata": {},
   "outputs": [],
   "source": [
    "from keras.utils import to_categorical\n",
    "Y_train = np.asarray([to_categorical(i, num_classes=n_words_t) for i in Y_train])\n",
    "Y_val = np.asarray([to_categorical(i, num_classes=n_words_t) for i in Y_val])\n",
    "Y_test = np.asarray([to_categorical(i, num_classes=n_words_t) for i in Y_test])"
   ]
  },
  {
   "cell_type": "markdown",
   "metadata": {},
   "source": [
    "## f)\n",
    "Para lograr la tarea defina una red recurrente del tipo *encoder*-*decoder* como la que se presenta en la siguiente imágen.\n",
    "<img src=\"https://chunml.github.io/ChunML.github.io/images/projects/sequence-to-sequence/repeated_vector.png\" width=\"60%\" />\n",
    "En primer lugar defina el *Encoder* que procesara el texto de entrada y retornará un solo vector final, haciendo uso de las capas ya conocidas de *Embedding* para generar un vector denso de palabra y *GRU*, pero en su versión acelerada para GPU.\n",
    "\n",
    "Luego defina la sección que conecta el largo (*timesteps*) de entrada *vs* el de salida.\n",
    "\n",
    "Finalmente defina el *Decoder* para generar la secuencia de salida en texto de palabras en otro idioma, a través de la función *softmax* sobre cada instante de tiempo (*timestep*). "
   ]
  },
  {
   "cell_type": "code",
   "execution_count": 39,
   "metadata": {},
   "outputs": [
    {
     "name": "stdout",
     "output_type": "stream",
     "text": [
      "_________________________________________________________________\n",
      "Layer (type)                 Output Shape              Param #   \n",
      "=================================================================\n",
      "embedding_5 (Embedding)      (None, 29, 100)           193300    \n",
      "_________________________________________________________________\n",
      "cu_dnngru_17 (CuDNNGRU)      (None, 29, 64)            31872     \n",
      "_________________________________________________________________\n",
      "cu_dnngru_18 (CuDNNGRU)      (None, 128)               74496     \n",
      "_________________________________________________________________\n",
      "repeat_vector_5 (RepeatVecto (None, 29, 128)           0         \n",
      "_________________________________________________________________\n",
      "cu_dnngru_19 (CuDNNGRU)      (None, 29, 128)           99072     \n",
      "_________________________________________________________________\n",
      "cu_dnngru_20 (CuDNNGRU)      (None, 29, 64)            37248     \n",
      "_________________________________________________________________\n",
      "time_distributed_4 (TimeDist (None, 29, 2983)          193895    \n",
      "=================================================================\n",
      "Total params: 629,883\n",
      "Trainable params: 629,883\n",
      "Non-trainable params: 0\n",
      "_________________________________________________________________\n"
     ]
    }
   ],
   "source": [
    "from keras.models import Sequential\n",
    "from keras.layers import Embedding, CuDNNGRU, TimeDistributed, Dense, Dropout\n",
    "EMBEDDING_DIM = 100\n",
    "model_F = Sequential()\n",
    "model_F.add(Embedding(input_dim=n_words_s, output_dim=EMBEDDING_DIM, input_length=max_inp_length))\n",
    "model_F.add(CuDNNGRU(64, return_sequences=True))\n",
    "model_F.add(CuDNNGRU(128, return_sequences=False))\n",
    "\n",
    "from keras.layers import RepeatVector\n",
    "model_F.add(RepeatVector(max_out_length)) #conection\n",
    "\n",
    "# Decoder\n",
    "model_F.add(CuDNNGRU(128, return_sequences=True))\n",
    "model_F.add(CuDNNGRU(64, return_sequences=True))\n",
    "model_F.add(TimeDistributed(Dense(n_words_t, activation='softmax')))\n",
    "model_F.summary()"
   ]
  },
  {
   "cell_type": "code",
   "execution_count": 34,
   "metadata": {},
   "outputs": [
    {
     "name": "stdout",
     "output_type": "stream",
     "text": [
      "29\n",
      "(15000, 29, 2983)\n",
      "(5000, 29, 2983)\n"
     ]
    }
   ],
   "source": [
    "print(max_out_length)\n",
    "print(Y_train.shape)\n",
    "print(Y_val.shape)"
   ]
  },
  {
   "cell_type": "markdown",
   "metadata": {},
   "source": [
    "Entrene la red entre 1 a 5 *epochs*, agregando los pesos definidos sobre cada ejemplo de entrenamiento. Además de utilizar una función de pérdida que evita generar explícitamente los *one hot vector*"
   ]
  },
  {
   "cell_type": "code",
   "execution_count": 41,
   "metadata": {},
   "outputs": [
    {
     "name": "stdout",
     "output_type": "stream",
     "text": [
      "WARNING:tensorflow:From /home/francisco/anaconda3/envs/redesneuronales/lib/python3.6/site-packages/tensorflow/python/ops/math_ops.py:3066: to_int32 (from tensorflow.python.ops.math_ops) is deprecated and will be removed in a future version.\n",
      "Instructions for updating:\n",
      "Use tf.cast instead.\n",
      "Train on 15000 samples, validate on 5000 samples\n",
      "Epoch 1/3\n",
      "15000/15000 [==============================] - 37s 2ms/step - loss: 4.4995 - val_loss: 1.9161\n",
      "Epoch 2/3\n",
      "15000/15000 [==============================] - 14s 913us/step - loss: 1.7261 - val_loss: 1.5369\n",
      "Epoch 3/3\n",
      "15000/15000 [==============================] - 13s 894us/step - loss: 1.5236 - val_loss: 1.4308\n"
     ]
    }
   ],
   "source": [
    "# model_F.compile(optimizer='adam', loss='sparse_categorical_crossentropy', sample_weight_mode='temporal')\n",
    "# history_F = model_F.fit(X_train, Y_train, epochs=3, batch_size=256,validation_data=(X_val, Y_val), sample_weight = sample_weight, verbose=1)\n",
    "\n",
    "model_F.compile(optimizer='adam', loss='categorical_crossentropy')\n",
    "history_F = model_F.fit(X_train, Y_train, epochs=3, batch_size=256,validation_data=(X_val, Y_val), verbose=1)"
   ]
  },
  {
   "cell_type": "code",
   "execution_count": 42,
   "metadata": {},
   "outputs": [
    {
     "name": "stderr",
     "output_type": "stream",
     "text": [
      "/home/francisco/anaconda3/envs/redesneuronales/lib/python3.6/site-packages/matplotlib/font_manager.py:1241: UserWarning: findfont: Font family ['normal'] not found. Falling back to DejaVu Sans.\n",
      "  (prop.get_family(), self.defaultFamily[fontext]))\n"
     ]
    },
    {
     "data": {
      "image/png": "[encoded data removed]",
      "text/plain": [
       "<Figure size 1440x360 with 1 Axes>"
      ]
     },
     "metadata": {
      "needs_background": "light"
     },
     "output_type": "display_data"
    }
   ],
   "source": [
    "def chart_loss(history, epoch_number, question):\n",
    "    epoch_arr = [i+1 for i in range(epoch_number)]\n",
    "    plt.figure(figsize = (20,5))\n",
    "    plt.plot(epoch_arr, history.history['loss'], '.-')\n",
    "    plt.plot(epoch_arr, history.history['val_loss'], '.-')\n",
    "    plt.xlabel('Epoch')\n",
    "    plt.ylabel('Loss')\n",
    "    plt.legend( ('Train', 'Val') )\n",
    "    plt.title(\"Pregunta: {}, Función de perdida vs epoch\".format(question))\n",
    "\n",
    "    max_index = np.argmin(history.history['val_loss'])\n",
    "    max_value = history.history['val_loss'][max_index].round(3)\n",
    "    plt.annotate('Min = {}'.format(max_value), xy=(max_index+1, max_value), xycoords='data', xytext=(-100, 100), textcoords='offset points', fontsize=14, arrowprops=dict(arrowstyle=\"->\"))\n",
    "\n",
    "\n",
    "    plt.show()\n",
    "\n",
    "chart_loss(history_F, 3, \"F\")"
   ]
  },
  {
   "cell_type": "code",
   "execution_count": null,
   "metadata": {},
   "outputs": [],
   "source": []
  },
  {
   "cell_type": "code",
   "execution_count": null,
   "metadata": {},
   "outputs": [],
   "source": []
  },
  {
   "cell_type": "code",
   "execution_count": null,
   "metadata": {},
   "outputs": [],
   "source": []
  }
 ],
 "metadata": {
  "kernelspec": {
   "display_name": "Python 3",
   "language": "python",
   "name": "python3"
  },
  "language_info": {
   "codemirror_mode": {
    "name": "ipython",
    "version": 3
   },
   "file_extension": ".py",
   "mimetype": "text/x-python",
   "name": "python",
   "nbconvert_exporter": "python",
   "pygments_lexer": "ipython3",
   "version": "3.6.8"
  }
 },
 "nbformat": 4,
 "nbformat_minor": 2
}
