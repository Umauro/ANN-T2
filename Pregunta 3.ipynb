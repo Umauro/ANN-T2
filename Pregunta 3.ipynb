{
 "cells": [
  {
   "cell_type": "markdown",
   "metadata": {},
   "source": [
    "# Tarea 2, pregunta 3: \"Encoder-Decoder sobre Texto\"\n",
    "\n",
    "## Integrantes\n",
    "\n",
    "* _**Francisco Olivares - 201473575-8 - fracisco.olivars.14@sansano.usm.cl**_\n",
    "* _**Felipe Vega - 201473511-1 - felipe.vega.14@sansano.usm.cl**_"
   ]
  },
  {
   "cell_type": "code",
   "execution_count": 1,
   "metadata": {},
   "outputs": [
    {
     "data": {
      "text/html": [
       "<style>.container { width:95% !important; }</style>"
      ],
      "text/plain": [
       "<IPython.core.display.HTML object>"
      ]
     },
     "metadata": {},
     "output_type": "display_data"
    },
    {
     "data": {
      "text/html": [
       "<style>.text_cell_render p, .text_cell_render li { font-size: 12.5pt !important; }</style>"
      ],
      "text/plain": [
       "<IPython.core.display.HTML object>"
      ]
     },
     "metadata": {},
     "output_type": "display_data"
    },
    {
     "data": {
      "text/html": [
       "<style>.text_cell_render li { margin: 0 0 10px 0; }</style>"
      ],
      "text/plain": [
       "<IPython.core.display.HTML object>"
      ]
     },
     "metadata": {},
     "output_type": "display_data"
    }
   ],
   "source": [
    "#Librerías\n",
    "import pandas as pd\n",
    "import numpy as np\n",
    "import matplotlib.pyplot as plt\n",
    "\n",
    "# Tensorflow GPU stuff :v\n",
    "import tensorflow as tf\n",
    "config = tf.ConfigProto()\n",
    "config.gpu_options.allow_growth=True\n",
    "sess = tf.Session(config=config)\n",
    "\n",
    "# Modificar estilos de jupyter\n",
    "from IPython.display import IFrame\n",
    "from IPython.core.display import display, HTML\n",
    "display(HTML(\"<style>.container { width:95% !important; }</style>\"))\n",
    "display(HTML(\"<style>.text_cell_render p, .text_cell_render li { font-size: 12.5pt !important; }</style>\"))\n",
    "display(HTML(\"<style>.text_cell_render li { margin: 0 0 10px 0; }</style>\"))\n",
    "\n",
    "# Tamaño fuente matplotlib\n",
    "font = {'family' : 'normal', 'weight' : 'normal', 'size'   : 14}\n",
    "import matplotlib\n",
    "matplotlib.rc('font', **font)"
   ]
  },
  {
   "cell_type": "code",
   "execution_count": 2,
   "metadata": {},
   "outputs": [
    {
     "data": {
      "text/html": [
       "<div>\n",
       "<style scoped>\n",
       "    .dataframe tbody tr th:only-of-type {\n",
       "        vertical-align: middle;\n",
       "    }\n",
       "\n",
       "    .dataframe tbody tr th {\n",
       "        vertical-align: top;\n",
       "    }\n",
       "\n",
       "    .dataframe thead th {\n",
       "        text-align: right;\n",
       "    }\n",
       "</style>\n",
       "<table border=\"1\" class=\"dataframe\">\n",
       "  <thead>\n",
       "    <tr style=\"text-align: right;\">\n",
       "      <th></th>\n",
       "      <th>Source</th>\n",
       "      <th>Target</th>\n",
       "    </tr>\n",
       "  </thead>\n",
       "  <tbody>\n",
       "    <tr>\n",
       "      <th>0</th>\n",
       "      <td>Go.</td>\n",
       "      <td>Ve.</td>\n",
       "    </tr>\n",
       "    <tr>\n",
       "      <th>1</th>\n",
       "      <td>Go.</td>\n",
       "      <td>Vete.</td>\n",
       "    </tr>\n",
       "    <tr>\n",
       "      <th>2</th>\n",
       "      <td>Go.</td>\n",
       "      <td>Vaya.</td>\n",
       "    </tr>\n",
       "    <tr>\n",
       "      <th>3</th>\n",
       "      <td>Go.</td>\n",
       "      <td>Váyase.</td>\n",
       "    </tr>\n",
       "    <tr>\n",
       "      <th>4</th>\n",
       "      <td>Hi.</td>\n",
       "      <td>Hola.</td>\n",
       "    </tr>\n",
       "  </tbody>\n",
       "</table>\n",
       "</div>"
      ],
      "text/plain": [
       "  Source   Target\n",
       "0    Go.      Ve.\n",
       "1    Go.    Vete.\n",
       "2    Go.    Vaya.\n",
       "3    Go.  Váyase.\n",
       "4    Hi.    Hola."
      ]
     },
     "metadata": {},
     "output_type": "display_data"
    },
    {
     "data": {
      "text/plain": [
       "(123376, 2)"
      ]
     },
     "execution_count": 2,
     "metadata": {},
     "output_type": "execute_result"
    }
   ],
   "source": [
    "# Se importa el dataset\n",
    "import pandas as pd\n",
    "df = pd.read_csv(\"dataset_3/spa.txt\", sep=\"\\t\", names=[\"Source\",\"Target\"])\n",
    "display(df.head())\n",
    "df.shape"
   ]
  },
  {
   "cell_type": "markdown",
   "metadata": {},
   "source": [
    "## a)\n",
    "Visualice los datos ¿Qué es la entrada y qué es la salida? Comente sobre los múltiples significados/sinónimos que puede tener una palabra al ser traducida y cómo propondría arreglar eso. *se espera que pueda implementarlo*"
   ]
  },
  {
   "cell_type": "code",
   "execution_count": 3,
   "metadata": {},
   "outputs": [
    {
     "data": {
      "text/html": [
       "<div>\n",
       "<style scoped>\n",
       "    .dataframe tbody tr th:only-of-type {\n",
       "        vertical-align: middle;\n",
       "    }\n",
       "\n",
       "    .dataframe tbody tr th {\n",
       "        vertical-align: top;\n",
       "    }\n",
       "\n",
       "    .dataframe thead th {\n",
       "        text-align: right;\n",
       "    }\n",
       "</style>\n",
       "<table border=\"1\" class=\"dataframe\">\n",
       "  <thead>\n",
       "    <tr style=\"text-align: right;\">\n",
       "      <th></th>\n",
       "      <th>Source</th>\n",
       "      <th>Target</th>\n",
       "    </tr>\n",
       "  </thead>\n",
       "  <tbody>\n",
       "    <tr>\n",
       "      <th>123371</th>\n",
       "      <td>There are mothers and fathers who will lie awa...</td>\n",
       "      <td>Hay madres y padres que se quedan despiertos d...</td>\n",
       "    </tr>\n",
       "    <tr>\n",
       "      <th>123372</th>\n",
       "      <td>A carbon footprint is the amount of carbon dio...</td>\n",
       "      <td>Una huella de carbono es la cantidad de contam...</td>\n",
       "    </tr>\n",
       "    <tr>\n",
       "      <th>123373</th>\n",
       "      <td>Since there are usually multiple websites on a...</td>\n",
       "      <td>Como suele haber varias páginas web sobre cual...</td>\n",
       "    </tr>\n",
       "    <tr>\n",
       "      <th>123374</th>\n",
       "      <td>If you want to sound like a native speaker, yo...</td>\n",
       "      <td>Si quieres sonar como un hablante nativo, debe...</td>\n",
       "    </tr>\n",
       "    <tr>\n",
       "      <th>123375</th>\n",
       "      <td>It may be impossible to get a completely error...</td>\n",
       "      <td>Puede que sea imposible obtener un corpus comp...</td>\n",
       "    </tr>\n",
       "  </tbody>\n",
       "</table>\n",
       "</div>"
      ],
      "text/plain": [
       "                                                   Source  \\\n",
       "123371  There are mothers and fathers who will lie awa...   \n",
       "123372  A carbon footprint is the amount of carbon dio...   \n",
       "123373  Since there are usually multiple websites on a...   \n",
       "123374  If you want to sound like a native speaker, yo...   \n",
       "123375  It may be impossible to get a completely error...   \n",
       "\n",
       "                                                   Target  \n",
       "123371  Hay madres y padres que se quedan despiertos d...  \n",
       "123372  Una huella de carbono es la cantidad de contam...  \n",
       "123373  Como suele haber varias páginas web sobre cual...  \n",
       "123374  Si quieres sonar como un hablante nativo, debe...  \n",
       "123375  Puede que sea imposible obtener un corpus comp...  "
      ]
     },
     "metadata": {},
     "output_type": "display_data"
    }
   ],
   "source": [
    "display(df.tail())"
   ]
  },
  {
   "cell_type": "markdown",
   "metadata": {},
   "source": [
    "## b)\n",
    "Realice un pre-procesamiento a los textos como se acostumbra para eliminar símbolos inecesarios u otras cosas que estime conveniente, comente sobre la importancia de éste paso. Además de ésto deberá agregar un símbolo al final de la sentencia *target* para indicar un \"alto\" cuando la red neuronal necesite aprender a generar una sentencia."
   ]
  },
  {
   "cell_type": "code",
   "execution_count": 4,
   "metadata": {},
   "outputs": [],
   "source": [
    "import string\n",
    "table = str.maketrans('', '', string.punctuation) \n",
    "def clean_text(text, where=None):\n",
    "    \"\"\" OJO: Sin eliminar el significado de las palabras.\"\"\"\n",
    "    text = text.lower()\n",
    "    tokenize_text = text.split()\n",
    "    tokenize_text = [word.translate(table) for word in tokenize_text]#eliminar puntuacion\n",
    "    tokenize_text = [word for word in tokenize_text if word.isalpha()] #remove numbers\n",
    "    if where ==\"target\":\n",
    "        tokenize_text = tokenize_text + [\"#end\"] \n",
    "    return tokenize_text\n",
    "texts_input = list(df['Source'].apply(clean_text))\n",
    "texts_output = list(df['Target'].apply(clean_text, where='target'))"
   ]
  },
  {
   "cell_type": "code",
   "execution_count": 5,
   "metadata": {},
   "outputs": [],
   "source": [
    "from sklearn.model_selection import train_test_split\n",
    "X_train_l, X_test_l, Y_train_l, Y_test_l = train_test_split(texts_input, texts_output,\n",
    "                                                            test_size=10000, random_state=22)\n",
    "\n",
    "# Se van a seleccionar 35000 elementos\n",
    "idx = np.random.choice(np.arange(len(X_train_l)), 25000, replace=False)\n",
    "X_train_l = np.asarray(X_train_l)[idx]\n",
    "Y_train_l = np.asarray(Y_train_l)[idx]\n",
    "\n",
    "X_train_l, X_val_l, Y_train_l, Y_val_l = train_test_split(X_train_l, Y_train_l, \n",
    "                                                          test_size=10000, random_state=22)"
   ]
  },
  {
   "cell_type": "markdown",
   "metadata": {},
   "source": [
    "## c)\n",
    "Genere un vocabulario, **desde el conjunto de entrenamiento**, sobre las palabras a recibir y generar en la traducción, esto es codificarlas a un valor entero que servirá para que la red las vea en una representación útil a procesar, *comience desde el 1 debido a que el cero será utilizado más adelante*. Para reducir el vocabulario considere las palabras que aparecen un mínimo de *min_count* veces en todo los datos, se aconseja un valor de 3. Comente sobre la importancia de ésto al reducir el vocabulario ¿De qué tamaño es el vocabulario de entrada y salida? ¿La diferencia de ésto podría ser un factor importante?"
   ]
  },
  {
   "cell_type": "code",
   "execution_count": 6,
   "metadata": {},
   "outputs": [],
   "source": [
    "def create_vocab(texts, min_count=1):\n",
    "    count_vocab = {}\n",
    "    for sentence in texts:\n",
    "        for word in sentence:\n",
    "            if word not in count_vocab:\n",
    "                count_vocab[word] = 1\n",
    "            else:\n",
    "                count_vocab[word] += 1\n",
    "    return [word for word,count in count_vocab.items() if count >= min_count]\n",
    "\n",
    "vocab_source = create_vocab(X_train_l, min_count=3)\n",
    "word2idx_s = {w: i+1 for i, w in enumerate(vocab_source)} #index (i+1) start from 1,2,3,...\n",
    "idx2word_s = {i+1: w for i, w in enumerate(vocab_source)}\n",
    "n_words_s = len(vocab_source)\n",
    "vocab_target = create_vocab(Y_train_l, min_count=3)\n",
    "word2idx_t = {w: i+1 for i, w in enumerate(vocab_target)}  #Converting text to numbers\n",
    "idx2word_t = {i+1 : w for i, w in enumerate(vocab_target)}\n",
    "n_words_t = len(vocab_target)"
   ]
  },
  {
   "cell_type": "markdown",
   "metadata": {},
   "source": [
    "Ahora codifique las palabras a los números indexados con el vocabulario. Recuerde que si una palabra en los otros conjuntos, o en el mismo de entrenamiento, no aparece en el vocabulario no se podrá generar una codificación, por lo que será **ignorada** ¿Cómo se podría evitar ésto?"
   ]
  },
  {
   "cell_type": "code",
   "execution_count": 7,
   "metadata": {},
   "outputs": [],
   "source": [
    "\"\"\" Source/input data \"\"\"\n",
    "\n",
    "def convert_text_to_index(X, Y, vocabulary):\n",
    "    transformed_data = list()\n",
    "    for i in range(len(X)):\n",
    "        words_in_vocabulary = True\n",
    "        trasnformed_sentence = []\n",
    "        for word in X[i]:\n",
    "            if word in vocabulary:\n",
    "                trasnformed_sentence.append(vocabulary[word])\n",
    "            else:\n",
    "                words_in_vocabulary = False\n",
    "                break\n",
    "        if words_in_vocabulary:\n",
    "            transformed_data.append(trasnformed_sentence)\n",
    "            \n",
    "    return transformed_data\n",
    "            \n",
    "dataX_train = [[word2idx_s[word] for word in sent if word in word2idx_s] for sent in X_train_l]\n",
    "dataX_val = [[word2idx_s[word] for word in sent if word in word2idx_s] for sent in X_val_l]\n",
    "dataX_test = [[word2idx_s[word] for word in sent if word in word2idx_s] for sent in X_test_l]\n",
    "\n",
    "# dataX_train = convert_text_to_index(X_train_l, word2idx_s)\n",
    "# dataX_valid = convert_text_to_index(X_val_l, word2idx_s)\n",
    "# dataX_test = convert_text_to_index(X_test_l, word2idx_s)\n",
    "\n",
    "\"\"\" Target/output data \"\"\"\n",
    "dataY_train = [[word2idx_t[word] for word in sent if word in word2idx_t] for sent in Y_train_l]\n",
    "dataY_val = [[word2idx_t[word] for word in sent if word in word2idx_t] for sent in Y_val_l] \n",
    "dataY_test = [[word2idx_t[word] for word in sent if word in word2idx_t] for sent in Y_test_l] "
   ]
  },
  {
   "cell_type": "markdown",
   "metadata": {},
   "source": [
    "Se podría evitar generando el vocabulario a partir de TODO el dataset antes de particionarlo en los distintos conjuntos de entrenamiento, validación y testing. Así se debería disminuir la posibilidad de que una palabra no se encuentre presente en el vocabulario. Otra cosa que se podría hacer es disminuir la cantidad mínima de ocurrencias de una palabra para que esta sea conciderada en el vocabulario, actualmente está puesto en 3."
   ]
  },
  {
   "cell_type": "markdown",
   "metadata": {},
   "source": [
    "## d)\n",
    "Debido al largo variable de los textos de entrada y salida será necesario estandarizar ésto para poder trabajar de manera más cómoda en Keras, *cada texto (entrada y salida) pueden tener distinto largo máximo*. Comente sobre la decisión del tipo de *padding*, *pre o post* ¿Qué sucede al variar el largo máximo de instantes de tiempo para procesar en cada parte del modelo (entrada y salida)?"
   ]
  },
  {
   "cell_type": "code",
   "execution_count": 8,
   "metadata": {},
   "outputs": [
    {
     "name": "stderr",
     "output_type": "stream",
     "text": [
      "Using TensorFlow backend.\n"
     ]
    },
    {
     "name": "stdout",
     "output_type": "stream",
     "text": [
      "Largo max inp:  35\n",
      "Largo max out:  37\n"
     ]
    }
   ],
   "source": [
    "from keras.preprocessing import sequence\n",
    "\"\"\" INPUT DATA (Origin language) \"\"\"\n",
    "max_inp_length = max(map(len, dataX_train)) # Se saca el largo de la sentencia más larga\n",
    "print(\"Largo max inp: \", max_inp_length)\n",
    "word2idx_s[\"PAD\"] = 0 #padding symbol\n",
    "idx2word_s[0] = \"PAD\"\n",
    "n_words_s += 1  \n",
    "\n",
    "# Se procede a aplicar el padding\n",
    "X_train = sequence.pad_sequences(dataX_train, maxlen=max_inp_length, padding='pre', value=word2idx_s[\"PAD\"])\n",
    "X_val = sequence.pad_sequences(dataX_val, maxlen=max_inp_length, padding='pre', value=word2idx_s[\"PAD\"])\n",
    "X_test = sequence.pad_sequences(dataX_test, maxlen=max_inp_length, padding='pre', value=word2idx_s[\"PAD\"])\n",
    "\n",
    "\"\"\" OUTPUT DATA (Destination language) \"\"\"\n",
    "max_out_length = max(map(len,dataY_train)) \n",
    "print(\"Largo max out: \",max_out_length)\n",
    "word2idx_t[\"PAD\"] = 0 #padding symbol\n",
    "idx2word_t[0] = \"PAD\"\n",
    "n_words_t += 1  \n",
    "Y_train = sequence.pad_sequences(dataY_train, maxlen=max_out_length, padding='post', value=word2idx_t[\"PAD\"])\n",
    "Y_val = sequence.pad_sequences(dataY_val, maxlen=max_out_length, padding='post', value=word2idx_t[\"PAD\"])\n",
    "Y_test = sequence.pad_sequences(dataY_test, maxlen=max_out_length, padding='post', value=word2idx_t[\"PAD\"])"
   ]
  },
  {
   "cell_type": "markdown",
   "metadata": {},
   "source": [
    "## e)\n",
    "Para evitar que la red obtenga una ganancia por imitar/predecir el símbolo de *padding* que está bastante presente en los datos coloque un peso sobre éste clase, con valor 0, así se evita que tenga impacto en la función objetivo. Ya que *keras* no soporta directamente ésto en series de tiempo coloque el peso a cada instante de tiempo de cada dato de entrenamiento dependiendo de su clase. Comente sobre alguna otra forma en que se podría manejar el evitar que la red prediga en mayoría el símbolo de *padding*."
   ]
  },
  {
   "cell_type": "code",
   "execution_count": 9,
   "metadata": {},
   "outputs": [],
   "source": [
    "c_weights = np.ones(n_words_t)\n",
    "c_weights[0] = 0 #padding class masked\n",
    "sample_weight = np.zeros(Y_train.shape)\n",
    "for i in range(sample_weight.shape[0]):\n",
    "    sample_weight[i] = c_weights[Y_train[i,:]]"
   ]
  },
  {
   "cell_type": "code",
   "execution_count": 10,
   "metadata": {},
   "outputs": [],
   "source": [
    "from keras.utils import to_categorical\n",
    "# Y_train = np.asarray([to_categorical(i, num_classes=n_words_t) for i in Y_train])\n",
    "# Y_val = np.asarray([to_categorical(i, num_classes=n_words_t) for i in Y_val])\n",
    "# Y_test = np.asarray([to_categorical(i, num_classes=n_words_t) for i in Y_test])"
   ]
  },
  {
   "cell_type": "markdown",
   "metadata": {},
   "source": [
    "## f)\n",
    "Para lograr la tarea defina una red recurrente del tipo *encoder*-*decoder* como la que se presenta en la siguiente imágen.\n",
    "<img src=\"https://chunml.github.io/ChunML.github.io/images/projects/sequence-to-sequence/repeated_vector.png\" width=\"60%\" />\n",
    "En primer lugar defina el *Encoder* que procesara el texto de entrada y retornará un solo vector final, haciendo uso de las capas ya conocidas de *Embedding* para generar un vector denso de palabra y *GRU*, pero en su versión acelerada para GPU.\n",
    "\n",
    "Luego defina la sección que conecta el largo (*timesteps*) de entrada *vs* el de salida.\n",
    "\n",
    "Finalmente defina el *Decoder* para generar la secuencia de salida en texto de palabras en otro idioma, a través de la función *softmax* sobre cada instante de tiempo (*timestep*). "
   ]
  },
  {
   "cell_type": "code",
   "execution_count": 11,
   "metadata": {},
   "outputs": [
    {
     "name": "stdout",
     "output_type": "stream",
     "text": [
      "WARNING:tensorflow:From /home/francisco/anaconda3/envs/redesneuronales/lib/python3.6/site-packages/tensorflow/python/framework/op_def_library.py:263: colocate_with (from tensorflow.python.framework.ops) is deprecated and will be removed in a future version.\n",
      "Instructions for updating:\n",
      "Colocations handled automatically by placer.\n",
      "_________________________________________________________________\n",
      "Layer (type)                 Output Shape              Param #   \n",
      "=================================================================\n",
      "embedding_1 (Embedding)      (None, 35, 100)           239600    \n",
      "_________________________________________________________________\n",
      "cu_dnngru_1 (CuDNNGRU)       (None, 35, 64)            31872     \n",
      "_________________________________________________________________\n",
      "cu_dnngru_2 (CuDNNGRU)       (None, 128)               74496     \n",
      "_________________________________________________________________\n",
      "repeat_vector_1 (RepeatVecto (None, 37, 128)           0         \n",
      "_________________________________________________________________\n",
      "cu_dnngru_3 (CuDNNGRU)       (None, 37, 128)           99072     \n",
      "_________________________________________________________________\n",
      "cu_dnngru_4 (CuDNNGRU)       (None, 37, 64)            37248     \n",
      "_________________________________________________________________\n",
      "time_distributed_1 (TimeDist (None, 37, 2986)          194090    \n",
      "=================================================================\n",
      "Total params: 676,378\n",
      "Trainable params: 676,378\n",
      "Non-trainable params: 0\n",
      "_________________________________________________________________\n"
     ]
    }
   ],
   "source": [
    "from keras.models import Sequential\n",
    "from keras.layers import Embedding, CuDNNGRU, TimeDistributed, Dense, Dropout\n",
    "EMBEDDING_DIM = 100\n",
    "\n",
    "model = Sequential()\n",
    "model.add(Embedding(input_dim=n_words_s, output_dim=EMBEDDING_DIM, input_length=max_inp_length))\n",
    "model.add(CuDNNGRU(64, return_sequences=True))\n",
    "model.add(CuDNNGRU(128, return_sequences=False))\n",
    "\n",
    "from keras.layers import RepeatVector\n",
    "model.add(RepeatVector(max_out_length)) #conection\n",
    "\n",
    "# Decoder\n",
    "model.add(CuDNNGRU(128, return_sequences=True))\n",
    "model.add(CuDNNGRU(64, return_sequences=True))\n",
    "model.add(TimeDistributed(Dense(n_words_t, activation='softmax')))\n",
    "model.summary()"
   ]
  },
  {
   "cell_type": "code",
   "execution_count": 12,
   "metadata": {},
   "outputs": [
    {
     "name": "stdout",
     "output_type": "stream",
     "text": [
      "37\n",
      "(15000, 37)\n",
      "(10000, 37)\n"
     ]
    }
   ],
   "source": [
    "print(max_out_length)\n",
    "print(Y_train.shape)\n",
    "print(Y_val.shape)\n",
    "Y_train = np.expand_dims(Y_train, axis=2)\n",
    "Y_val = np.expand_dims(Y_val, axis=2)\n",
    "Y_test = np.expand_dims(Y_test, axis=2)"
   ]
  },
  {
   "cell_type": "code",
   "execution_count": 13,
   "metadata": {},
   "outputs": [
    {
     "data": {
      "text/plain": [
       "array([1], dtype=int32)"
      ]
     },
     "execution_count": 13,
     "metadata": {},
     "output_type": "execute_result"
    }
   ],
   "source": [
    "Y_train[0][0]"
   ]
  },
  {
   "cell_type": "markdown",
   "metadata": {},
   "source": [
    "Entrene la red entre 1 a 5 *epochs*, agregando los pesos definidos sobre cada ejemplo de entrenamiento. Además de utilizar una función de pérdida que evita generar explícitamente los *one hot vector*"
   ]
  },
  {
   "cell_type": "code",
   "execution_count": 14,
   "metadata": {},
   "outputs": [
    {
     "name": "stdout",
     "output_type": "stream",
     "text": [
      "WARNING:tensorflow:From /home/francisco/anaconda3/envs/redesneuronales/lib/python3.6/site-packages/tensorflow/python/ops/math_ops.py:3066: to_int32 (from tensorflow.python.ops.math_ops) is deprecated and will be removed in a future version.\n",
      "Instructions for updating:\n",
      "Use tf.cast instead.\n",
      "Train on 15000 samples, validate on 10000 samples\n",
      "Epoch 1/5\n",
      "15000/15000 [==============================] - 10s 675us/step - loss: 6.6124 - val_loss: 9.4440\n",
      "Epoch 2/5\n",
      "15000/15000 [==============================] - 7s 491us/step - loss: 5.6279 - val_loss: 10.3079\n",
      "Epoch 3/5\n",
      "15000/15000 [==============================] - 8s 505us/step - loss: 5.6196 - val_loss: 10.7470\n",
      "Epoch 4/5\n",
      "15000/15000 [==============================] - 8s 531us/step - loss: 5.6047 - val_loss: 11.1200\n",
      "Epoch 5/5\n",
      "15000/15000 [==============================] - 8s 520us/step - loss: 5.5834 - val_loss: 11.4041\n"
     ]
    }
   ],
   "source": [
    "model.compile(optimizer='adam', loss='sparse_categorical_crossentropy', sample_weight_mode='temporal')\n",
    "history_F = model.fit(X_train, Y_train, epochs=5, batch_size=256,validation_data=(X_val, Y_val), sample_weight = sample_weight, verbose=1)\n",
    "\n",
    "# model_F.compile(optimizer='adam', loss='categorical_crossentropy')\n",
    "# history_F = model_F.fit(X_train, Y_train, epochs=3, batch_size=256,validation_data=(X_val, Y_val), verbose=1)"
   ]
  },
  {
   "cell_type": "code",
   "execution_count": 15,
   "metadata": {},
   "outputs": [
    {
     "name": "stderr",
     "output_type": "stream",
     "text": [
      "/home/francisco/anaconda3/envs/redesneuronales/lib/python3.6/site-packages/matplotlib/font_manager.py:1241: UserWarning: findfont: Font family ['normal'] not found. Falling back to DejaVu Sans.\n",
      "  (prop.get_family(), self.defaultFamily[fontext]))\n"
     ]
    },
    {
     "data": {
      "image/png": "[encoded data removed]",
      "text/plain": [
       "<Figure size 1440x360 with 1 Axes>"
      ]
     },
     "metadata": {
      "needs_background": "light"
     },
     "output_type": "display_data"
    }
   ],
   "source": [
    "def chart_loss(history, epoch_number, question):\n",
    "    epoch_arr = [i+1 for i in range(epoch_number)]\n",
    "    plt.figure(figsize = (20,5))\n",
    "    plt.plot(epoch_arr, history.history['loss'], '.-')\n",
    "    plt.plot(epoch_arr, history.history['val_loss'], '.-')\n",
    "    plt.xlabel('Epoch')\n",
    "    plt.ylabel('Loss')\n",
    "    plt.legend( ('Train', 'Val') )\n",
    "    plt.title(\"Pregunta: {}, Función de perdida vs epoch\".format(question))\n",
    "\n",
    "    max_index = np.argmin(history.history['val_loss'])\n",
    "    max_value = history.history['val_loss'][max_index].round(3)\n",
    "    plt.annotate('Min = {}'.format(max_value), xy=(max_index+1, max_value), xycoords='data', xytext=(-100, 100), textcoords='offset points', fontsize=14, arrowprops=dict(arrowstyle=\"->\"))\n",
    "\n",
    "\n",
    "    plt.show()\n",
    "\n",
    "chart_loss(history_F, 5, \"F\")"
   ]
  },
  {
   "cell_type": "markdown",
   "metadata": {},
   "source": [
    "## g)\n",
    "Debido a lo costoso de tener una red completamente recurrente para entrenar y poder experimentar, cambie el modelo que procesa el *Encoder* por una red convolucional, reduciendo el número de capas pero aumentando las neuronas. Utilice tamaños de *kernel*  igual a 5 y funciones de activaciones relu. Se agregan capas de *BatchNormalization* debido a que en el *Decoder* contamos con redes recurrentes que tienen capa activación distinta a la usada por las convoluciones. La capa de *GlobalMaxPooling1d* es lo que permite reducir toda la información extraída a un único vector, como se realizó anteriormente con *return_sequences=False*, comente sobre la ganancia o desventaja de ésto *vs* la red neuronal."
   ]
  },
  {
   "cell_type": "code",
   "execution_count": 16,
   "metadata": {},
   "outputs": [
    {
     "name": "stdout",
     "output_type": "stream",
     "text": [
      "_________________________________________________________________\n",
      "Layer (type)                 Output Shape              Param #   \n",
      "=================================================================\n",
      "embedding_2 (Embedding)      (None, 35, 100)           239600    \n",
      "_________________________________________________________________\n",
      "conv1d_1 (Conv1D)            (None, 35, 256)           128256    \n",
      "_________________________________________________________________\n",
      "batch_normalization_1 (Batch (None, 35, 256)           1024      \n",
      "_________________________________________________________________\n",
      "conv1d_2 (Conv1D)            (None, 35, 256)           327936    \n",
      "_________________________________________________________________\n",
      "batch_normalization_2 (Batch (None, 35, 256)           1024      \n",
      "_________________________________________________________________\n",
      "global_max_pooling1d_1 (Glob (None, 256)               0         \n",
      "_________________________________________________________________\n",
      "repeat_vector_2 (RepeatVecto (None, 37, 256)           0         \n",
      "_________________________________________________________________\n",
      "cu_dnngru_5 (CuDNNGRU)       (None, 37, 256)           394752    \n",
      "_________________________________________________________________\n",
      "time_distributed_2 (TimeDist (None, 37, 2986)          767402    \n",
      "=================================================================\n",
      "Total params: 1,859,994\n",
      "Trainable params: 1,858,970\n",
      "Non-trainable params: 1,024\n",
      "_________________________________________________________________\n"
     ]
    }
   ],
   "source": [
    "from keras.layers import Conv1D,MaxPool1D,GlobalMaxPooling1D,GlobalAveragePooling1D,BatchNormalization\n",
    "model = Sequential()\n",
    "model.add(Embedding(input_dim=n_words_s, output_dim=EMBEDDING_DIM, input_length=max_inp_length))\n",
    "model.add(Conv1D(256, 5, padding='same', activation='relu', strides=1))\n",
    "model.add(BatchNormalization()) #for stability\n",
    "model.add(Conv1D(256, 5, padding='same', activation='relu', strides=1))\n",
    "model.add(BatchNormalization())\n",
    "model.add(GlobalMaxPooling1D()) #aka to return_sequences=False\n",
    "model.add(RepeatVector(max_out_length)) #conection\n",
    "model.add(CuDNNGRU(256, return_sequences=True))\n",
    "model.add(TimeDistributed(Dense(n_words_t, activation='softmax')))\n",
    "model.summary() "
   ]
  },
  {
   "cell_type": "code",
   "execution_count": 17,
   "metadata": {},
   "outputs": [
    {
     "name": "stdout",
     "output_type": "stream",
     "text": [
      "WARNING:tensorflow:From /home/francisco/anaconda3/envs/redesneuronales/lib/python3.6/site-packages/tensorflow/python/ops/math_grad.py:102: div (from tensorflow.python.ops.math_ops) is deprecated and will be removed in a future version.\n",
      "Instructions for updating:\n",
      "Deprecated in favor of operator or tf.math.divide.\n",
      "Train on 15000 samples, validate on 10000 samples\n",
      "Epoch 1/20\n",
      "15000/15000 [==============================] - 12s 827us/step - loss: 5.8178 - val_loss: 11.3870\n",
      "Epoch 2/20\n",
      "15000/15000 [==============================] - 11s 722us/step - loss: 5.3074 - val_loss: 12.3629\n",
      "Epoch 3/20\n",
      "15000/15000 [==============================] - 11s 716us/step - loss: 5.0281 - val_loss: 12.8794\n",
      "Epoch 4/20\n",
      "15000/15000 [==============================] - 11s 728us/step - loss: 4.7694 - val_loss: 13.3243\n",
      "Epoch 5/20\n",
      "15000/15000 [==============================] - 11s 758us/step - loss: 4.5328 - val_loss: 13.4219\n",
      "Epoch 6/20\n",
      "15000/15000 [==============================] - 11s 723us/step - loss: 4.2992 - val_loss: 13.7124\n",
      "Epoch 7/20\n",
      "15000/15000 [==============================] - 11s 715us/step - loss: 4.0734 - val_loss: 13.8706\n",
      "Epoch 8/20\n",
      "15000/15000 [==============================] - 11s 720us/step - loss: 3.8791 - val_loss: 13.9250\n",
      "Epoch 9/20\n",
      "15000/15000 [==============================] - 11s 730us/step - loss: 3.6962 - val_loss: 13.9819\n",
      "Epoch 10/20\n",
      "15000/15000 [==============================] - 11s 723us/step - loss: 3.5110 - val_loss: 13.9779\n",
      "Epoch 11/20\n",
      "15000/15000 [==============================] - 11s 725us/step - loss: 3.3559 - val_loss: 14.0101\n",
      "Epoch 12/20\n",
      "15000/15000 [==============================] - 11s 716us/step - loss: 3.1996 - val_loss: 14.0161\n",
      "Epoch 13/20\n",
      "15000/15000 [==============================] - 11s 722us/step - loss: 3.0674 - val_loss: 14.0278\n",
      "Epoch 14/20\n",
      "15000/15000 [==============================] - 11s 752us/step - loss: 2.9367 - val_loss: 14.0182\n",
      "Epoch 15/20\n",
      "15000/15000 [==============================] - 11s 738us/step - loss: 2.8045 - val_loss: 14.0326\n",
      "Epoch 16/20\n",
      "15000/15000 [==============================] - 11s 738us/step - loss: 2.6722 - val_loss: 14.0413\n",
      "Epoch 17/20\n",
      "15000/15000 [==============================] - 11s 719us/step - loss: 2.5659 - val_loss: 14.0312\n",
      "Epoch 18/20\n",
      "15000/15000 [==============================] - 11s 736us/step - loss: 2.4457 - val_loss: 14.0332\n",
      "Epoch 19/20\n",
      "15000/15000 [==============================] - 11s 746us/step - loss: 2.3548 - val_loss: 14.0499\n",
      "Epoch 20/20\n",
      "15000/15000 [==============================] - 12s 781us/step - loss: 2.2992 - val_loss: 14.0375\n"
     ]
    }
   ],
   "source": [
    "model.compile(optimizer='adam', loss='sparse_categorical_crossentropy', sample_weight_mode='temporal')\n",
    "history_G = model.fit(X_train, Y_train, epochs=20, batch_size=256,validation_data=(X_val, Y_val), sample_weight = sample_weight, verbose=1)"
   ]
  },
  {
   "cell_type": "code",
   "execution_count": 18,
   "metadata": {},
   "outputs": [
    {
     "data": {
      "image/png": "[encoded data removed]",
      "text/plain": [
       "<Figure size 1440x360 with 1 Axes>"
      ]
     },
     "metadata": {
      "needs_background": "light"
     },
     "output_type": "display_data"
    }
   ],
   "source": [
    "chart_loss(history_G, 20, \"G\")"
   ]
  },
  {
   "cell_type": "markdown",
   "metadata": {},
   "source": [
    "## h)\n",
    "Visualice lo aprendido por el modelo sobre algunos datos del conjunto de entrenamiento y validación, comente lo observado."
   ]
  },
  {
   "cell_type": "code",
   "execution_count": 21,
   "metadata": {},
   "outputs": [
    {
     "name": "stdout",
     "output_type": "stream",
     "text": [
      "Texto source:  i needed this\n",
      "Texto target real:  yo necesitaba esto #end\n",
      "Texto target predicho:  yo que esto #end\n",
      "\n",
      "\n",
      "Texto source:  you didnt need to come here so early\n",
      "Texto target real:  no venir aquí tan temprano #end\n",
      "Texto target predicho:  no no aquí aquí aquí #end\n",
      "\n",
      "\n",
      "Texto source:  ive spent way too much time thinking about this problem\n",
      "Texto target real:  he pasado demasiado tiempo pensando sobre este problema #end\n",
      "Texto target predicho:  este en de de este este este este este este #end\n",
      "\n",
      "\n",
      "Texto source:  i found out about it on the news\n",
      "Texto target real:  me de eso en las noticias #end\n",
      "Texto target predicho:  estaba en en en en #end\n",
      "\n",
      "\n",
      "Texto source:  have you ever played\n",
      "Texto target real:  alguna vez #end\n",
      "Texto target predicho:  has vez #end\n",
      "\n",
      "\n"
     ]
    }
   ],
   "source": [
    "def predict_words(y_indexs, data=\"target\"):\n",
    "    \"\"\" Predict until '-#end-' is seen \"\"\"\n",
    "    return_val = []\n",
    "    for indx_word in y_indexs:\n",
    "        if indx_word != 0: #start to predict\n",
    "            return_val.append(np.squeeze(indx_word))\n",
    "            if data == \"target\": #if target is predicting\n",
    "                if indx_word == word2idx_t[\"#end\"]:\n",
    "                    return return_val                \n",
    "    return return_val\n",
    "\n",
    "def show_predictions(model, number_of_examples = 5):\n",
    "    n_s = number_of_examples\n",
    "    idx = np.random.choice(np.arange(Y_val.shape[0]), size=n_s, replace=False)\n",
    "    Y_pred = model.predict_classes(X_val[idx] )\n",
    "    for i, n_sampled in enumerate(idx):\n",
    "        text_input = [idx2word_s[p] for p in predict_words(X_val[n_sampled], data=\"source\")]\n",
    "        print(\"Texto source: \", ' '.join(text_input))\n",
    "        text_real = [idx2word_t[p] for p in predict_words(Y_val[n_sampled,:,0], data=\"target\")]\n",
    "        print(\"Texto target real: \", ' '.join( text_real))\n",
    "        text_sampled = [idx2word_t[p] for p in predict_words(Y_pred[i], data=\"target\")]\n",
    "        print(\"Texto target predicho: \", ' '.join(text_sampled))\n",
    "        print('\\n')\n",
    "    \n",
    "show_predictions(model)"
   ]
  },
  {
   "cell_type": "markdown",
   "metadata": {},
   "source": [
    "## i)\n",
    "Realice algún cambio esperando que mejore el modelo entrenado, luego vuelva a visualizar lo predicho por la red *vs* lo real. *Debido a lo costoso en entrenar puede optar por realizar solo un cambio pero que sea significativo*."
   ]
  },
  {
   "cell_type": "code",
   "execution_count": 22,
   "metadata": {},
   "outputs": [
    {
     "name": "stdout",
     "output_type": "stream",
     "text": [
      "WARNING:tensorflow:From /home/francisco/anaconda3/envs/redesneuronales/lib/python3.6/site-packages/keras/backend/tensorflow_backend.py:3445: calling dropout (from tensorflow.python.ops.nn_ops) with keep_prob is deprecated and will be removed in a future version.\n",
      "Instructions for updating:\n",
      "Please use `rate` instead of `keep_prob`. Rate should be set to `rate = 1 - keep_prob`.\n",
      "_________________________________________________________________\n",
      "Layer (type)                 Output Shape              Param #   \n",
      "=================================================================\n",
      "embedding_3 (Embedding)      (None, 35, 100)           239600    \n",
      "_________________________________________________________________\n",
      "conv1d_3 (Conv1D)            (None, 35, 256)           128256    \n",
      "_________________________________________________________________\n",
      "batch_normalization_3 (Batch (None, 35, 256)           1024      \n",
      "_________________________________________________________________\n",
      "conv1d_4 (Conv1D)            (None, 35, 256)           327936    \n",
      "_________________________________________________________________\n",
      "batch_normalization_4 (Batch (None, 35, 256)           1024      \n",
      "_________________________________________________________________\n",
      "global_max_pooling1d_2 (Glob (None, 256)               0         \n",
      "_________________________________________________________________\n",
      "repeat_vector_3 (RepeatVecto (None, 37, 256)           0         \n",
      "_________________________________________________________________\n",
      "cu_dnngru_6 (CuDNNGRU)       (None, 37, 256)           394752    \n",
      "_________________________________________________________________\n",
      "dropout_1 (Dropout)          (None, 37, 256)           0         \n",
      "_________________________________________________________________\n",
      "time_distributed_3 (TimeDist (None, 37, 2986)          767402    \n",
      "=================================================================\n",
      "Total params: 1,859,994\n",
      "Trainable params: 1,858,970\n",
      "Non-trainable params: 1,024\n",
      "_________________________________________________________________\n"
     ]
    }
   ],
   "source": [
    "model = Sequential()\n",
    "model.add(Embedding(input_dim=n_words_s, output_dim=EMBEDDING_DIM, input_length=max_inp_length))\n",
    "model.add(Conv1D(256, 5, padding='same', activation='relu', strides=1))\n",
    "model.add(BatchNormalization()) #for stability\n",
    "model.add(Conv1D(256, 5, padding='same', activation='relu', strides=1))\n",
    "model.add(BatchNormalization())\n",
    "model.add(GlobalMaxPooling1D()) #aka to return_sequences=False\n",
    "model.add(RepeatVector(max_out_length)) #conection\n",
    "model.add(CuDNNGRU(256, return_sequences=True))\n",
    "model.add(Dropout(0.5)) # Se añade Dropout esperando un efecto regularizador\n",
    "model.add(TimeDistributed(Dense(n_words_t, activation='softmax')))\n",
    "model.summary() "
   ]
  },
  {
   "cell_type": "code",
   "execution_count": 24,
   "metadata": {
    "scrolled": true
   },
   "outputs": [
    {
     "name": "stdout",
     "output_type": "stream",
     "text": [
      "Train on 15000 samples, validate on 10000 samples\n",
      "Epoch 1/20\n",
      "15000/15000 [==============================] - 12s 813us/step - loss: 5.8786 - val_loss: 11.6411\n",
      "Epoch 2/20\n",
      "15000/15000 [==============================] - 12s 774us/step - loss: 5.4331 - val_loss: 12.4462\n",
      "Epoch 3/20\n",
      "15000/15000 [==============================] - 12s 769us/step - loss: 5.2229 - val_loss: 12.7879\n",
      "Epoch 4/20\n",
      "15000/15000 [==============================] - 12s 768us/step - loss: 5.0214 - val_loss: 13.3307\n",
      "Epoch 5/20\n",
      "15000/15000 [==============================] - 11s 749us/step - loss: 4.8592 - val_loss: 13.7004\n",
      "Epoch 6/20\n",
      "15000/15000 [==============================] - 11s 745us/step - loss: 4.7146 - val_loss: 13.7922\n",
      "Epoch 7/20\n",
      "15000/15000 [==============================] - 12s 774us/step - loss: 4.5846 - val_loss: 14.0753\n",
      "Epoch 8/20\n",
      "15000/15000 [==============================] - 11s 747us/step - loss: 4.4528 - val_loss: 14.1002\n",
      "Epoch 9/20\n",
      "15000/15000 [==============================] - 11s 725us/step - loss: 4.3396 - val_loss: 14.0501\n",
      "Epoch 10/20\n",
      "15000/15000 [==============================] - 11s 725us/step - loss: 4.2282 - val_loss: 14.0701\n",
      "Epoch 11/20\n",
      "15000/15000 [==============================] - 11s 732us/step - loss: 4.1313 - val_loss: 14.0950\n",
      "Epoch 12/20\n",
      "15000/15000 [==============================] - 11s 764us/step - loss: 4.0336 - val_loss: 14.0745\n",
      "Epoch 13/20\n",
      "15000/15000 [==============================] - 11s 748us/step - loss: 3.9411 - val_loss: 14.0639\n",
      "Epoch 14/20\n",
      "15000/15000 [==============================] - 11s 750us/step - loss: 3.8378 - val_loss: 14.0751\n",
      "Epoch 15/20\n",
      "15000/15000 [==============================] - 11s 752us/step - loss: 3.7570 - val_loss: 14.0808\n",
      "Epoch 16/20\n",
      "15000/15000 [==============================] - 11s 755us/step - loss: 3.6939 - val_loss: 14.0672\n",
      "Epoch 17/20\n",
      "15000/15000 [==============================] - 11s 755us/step - loss: 3.5919 - val_loss: 14.0598\n",
      "Epoch 18/20\n",
      "15000/15000 [==============================] - 12s 831us/step - loss: 3.5185 - val_loss: 14.0502\n",
      "Epoch 19/20\n",
      "15000/15000 [==============================] - 11s 759us/step - loss: 3.4809 - val_loss: 14.0527\n",
      "Epoch 20/20\n",
      "15000/15000 [==============================] - 11s 759us/step - loss: 3.4092 - val_loss: 14.0509\n"
     ]
    }
   ],
   "source": [
    "model.compile(optimizer='adam', loss='sparse_categorical_crossentropy', sample_weight_mode='temporal')\n",
    "history_I = model.fit(X_train, Y_train, epochs=20, batch_size=256,validation_data=(X_val, Y_val), sample_weight = sample_weight, verbose=1)"
   ]
  },
  {
   "cell_type": "code",
   "execution_count": 25,
   "metadata": {},
   "outputs": [
    {
     "data": {
      "image/png": "[encoded data removed]",
      "text/plain": [
       "<Figure size 1440x360 with 1 Axes>"
      ]
     },
     "metadata": {
      "needs_background": "light"
     },
     "output_type": "display_data"
    }
   ],
   "source": [
    "chart_loss(history_I, 20, \"I\")"
   ]
  },
  {
   "cell_type": "code",
   "execution_count": 26,
   "metadata": {},
   "outputs": [
    {
     "name": "stdout",
     "output_type": "stream",
     "text": [
      "Texto source:  would you step aside\n",
      "Texto target real:  hacerse a un lado #end\n",
      "Texto target predicho:  un un #end\n",
      "\n",
      "\n",
      "Texto source:  ill change\n",
      "Texto target real:  #end\n",
      "Texto target predicho:  te #end\n",
      "\n",
      "\n",
      "Texto source:  tom is a\n",
      "Texto target real:  tom es #end\n",
      "Texto target predicho:  tom es un #end\n",
      "\n",
      "\n",
      "Texto source:  mary is wearing a new outfit\n",
      "Texto target real:  mary lleva puesto un nuevo #end\n",
      "Texto target predicho:  tom es una una una #end\n",
      "\n",
      "\n",
      "Texto source:  i may be wrong\n",
      "Texto target real:  puede que me #end\n",
      "Texto target predicho:  puedo puedo ser #end\n",
      "\n",
      "\n"
     ]
    }
   ],
   "source": [
    "show_predictions(model)"
   ]
  },
  {
   "cell_type": "markdown",
   "metadata": {},
   "source": [
    "La modificación realizada fue añadir una capa de Dropout antes de la capa softmax, esto con la esperanza que se detuviera el overfitting. Al ver los resultados se aprecia que aquello no se logra y que los valores de la función de perdida en entrenamiento y validación no sufren mayores cambios"
   ]
  },
  {
   "cell_type": "markdown",
   "metadata": {},
   "source": [
    "## j)\n",
    "A pesar de que la tarea de medir qué tan similar es un texto a otro ya es un área de investigación propia [[6]](#refs), usted deberá utilizar alguna métrica de desempeño para ver qué tan buena es la traducción del texto *versus* el texto real entregado. Debido a que la métrica de *Exact Matching* (EM) puede ser muy drástica, mida *f1 score* por texto además de proponer alguna otra técnica de evaluación para medir sobre el conjunto de pruebas y los otros conjuntos si estima conveniente. Puede basarse en otros trabajos como *Image captioning* o *Text summary*. \n",
    "*Hint: Debido a los problemas de memoria al realizar un forward-pass, solo seleccione un subconjunto $N_{sub}$ del conjunto de pruebas para realizar ésta evaluación, se aconseja entre 1000 y 5000.*"
   ]
  },
  {
   "cell_type": "code",
   "execution_count": 28,
   "metadata": {},
   "outputs": [
    {
     "data": {
      "text/plain": [
       "53.03381461503752"
      ]
     },
     "execution_count": 28,
     "metadata": {},
     "output_type": "execute_result"
    }
   ],
   "source": [
    "from sklearn.preprocessing import MultiLabelBinarizer\n",
    "from sklearn.metrics import f1_score, precision_score, recall_score\n",
    "m = MultiLabelBinarizer().fit([np.arange(n_words_t)]) \n",
    "def calculate_f1(true, pred):\n",
    "    true = np.squeeze(true)\n",
    "    pred = np.squeeze(pred)\n",
    "    binarized_true = m.transform([predict_words(true)])[0] #onehot of words appear\n",
    "    binarized_pred = m.transform([predict_words(pred)])[0] #onehot of words appear\n",
    "    return f1_score(binarized_true, binarized_pred, average='binary') #only on appearing words\n",
    "\n",
    "n_s = 1500\n",
    "idx = np.random.choice(np.arange(Y_val.shape[0]), size=n_s, replace=False)\n",
    "Y_pred = model.predict_classes(X_val[idx])\n",
    "\n",
    "f1_final = np.mean([calculate_f1(true_words,pred_words) for true_words,pred_words in zip(Y_val[idx],Y_pred)])\n",
    "f1_final*100 #porcentaje"
   ]
  },
  {
   "cell_type": "markdown",
   "metadata": {},
   "source": [
    "## k)\n",
    "En ves de volver a variar el modelo de *Encoder*, dejaremos una representación manual explícita (*no entrenable*) a través de extraer características manuales de los textos *source*, como por ejemplo representaciones *term frequency* (TF) o TF-IDF, proporcionadas a través de __[sklearn](https://scikit-learn.org/stable/modules/classes.html#module-sklearn.feature_extraction.text)__. Luego, con esto generado, defina y entrene el modelo *Decoder* neuronal como el presentado en las preguntas anteriores, ésto es comenzar desde la capa *RepeatVector* hasta llegar a la clasificación sobre el texto *target*. Compare el desempeño con lo presentado en (j) y lo visualizado en (h)."
   ]
  },
  {
   "cell_type": "code",
   "execution_count": 55,
   "metadata": {},
   "outputs": [],
   "source": [
    "from sklearn.feature_extraction.text import TfidfVectorizer\n",
    "def dummy_fun(doc):\n",
    "    return doc\n",
    "tf_idf = TfidfVectorizer(analyzer='word',tokenizer=dummy_fun,preprocessor=dummy_fun,\n",
    "                         token_pattern=None,use_idf= True, smooth_idf=True, norm='l2') \n",
    "\n",
    "\n",
    "train_length = len(dataX_train)\n",
    "\n",
    "temp = tf_idf.fit_transform(dataX_train+dataX_val).astype('float32').todense()\n",
    "\n",
    "X_train_tfidf = temp[:train_length,:]\n",
    "X_val_tfidf = temp[train_length:, :]"
   ]
  },
  {
   "cell_type": "code",
   "execution_count": 56,
   "metadata": {},
   "outputs": [
    {
     "name": "stdout",
     "output_type": "stream",
     "text": [
      "(15000, 2395)\n",
      "(10000, 2395)\n"
     ]
    }
   ],
   "source": [
    "print(X_train_tfidf.shape)\n",
    "print(X_val_tfidf.shape)"
   ]
  },
  {
   "cell_type": "code",
   "execution_count": 74,
   "metadata": {},
   "outputs": [
    {
     "name": "stdout",
     "output_type": "stream",
     "text": [
      "[[0.4895386  0.2312212  0.45674583 ... 0.         0.         0.        ]]\n"
     ]
    }
   ],
   "source": [
    "print(X_train_tfidf)"
   ]
  },
  {
   "cell_type": "code",
   "execution_count": 79,
   "metadata": {},
   "outputs": [
    {
     "name": "stdout",
     "output_type": "stream",
     "text": [
      "_________________________________________________________________\n",
      "Layer (type)                 Output Shape              Param #   \n",
      "=================================================================\n",
      "repeat_vector_7 (RepeatVecto (None, 37, 2395)          0         \n",
      "_________________________________________________________________\n",
      "cu_dnngru_9 (CuDNNGRU)       (None, 37, 256)           2037504   \n",
      "_________________________________________________________________\n",
      "dropout_4 (Dropout)          (None, 37, 256)           0         \n",
      "_________________________________________________________________\n",
      "time_distributed_6 (TimeDist (None, 37, 2986)          767402    \n",
      "=================================================================\n",
      "Total params: 2,804,906\n",
      "Trainable params: 2,804,906\n",
      "Non-trainable params: 0\n",
      "_________________________________________________________________\n"
     ]
    }
   ],
   "source": [
    "from keras.layers import InputLayer\n",
    "model = Sequential()\n",
    "\n",
    "model.add(InputLayer(input_shape=(X_train_tfidf.shape[1], )))\n",
    "model.add(RepeatVector(max_out_length)) #conection\n",
    "\n",
    "# model.add(RepeatVector(max_out_length))\n",
    "# model.add(RepeatVector(X_train_tfidf.shape[1]))\n",
    "\n",
    "model.add(CuDNNGRU(256, return_sequences=True))\n",
    "model.add(Dropout(0.25)) # Se añade Dropout esperando un efecto regularizador\n",
    "model.add(TimeDistributed(Dense(n_words_t, activation='softmax')))\n",
    "model.summary() "
   ]
  },
  {
   "cell_type": "code",
   "execution_count": 81,
   "metadata": {},
   "outputs": [
    {
     "name": "stdout",
     "output_type": "stream",
     "text": [
      "Train on 15000 samples, validate on 10000 samples\n",
      "Epoch 1/20\n",
      "15000/15000 [==============================] - 16s 1ms/step - loss: 6.7458 - val_loss: 14.3211\n",
      "Epoch 2/20\n",
      "15000/15000 [==============================] - 15s 994us/step - loss: 5.9436 - val_loss: 14.3094\n",
      "Epoch 3/20\n",
      "15000/15000 [==============================] - 15s 1ms/step - loss: 5.7884 - val_loss: 14.3360\n",
      "Epoch 4/20\n",
      "15000/15000 [==============================] - 14s 921us/step - loss: 5.6335 - val_loss: 14.3090\n",
      "Epoch 5/20\n",
      "15000/15000 [==============================] - 14s 940us/step - loss: 5.4705 - val_loss: 14.2872\n",
      "Epoch 6/20\n",
      "15000/15000 [==============================] - 15s 969us/step - loss: 5.3621 - val_loss: 14.2724\n",
      "Epoch 7/20\n",
      "15000/15000 [==============================] - 14s 918us/step - loss: 5.2546 - val_loss: 14.2548\n",
      "Epoch 8/20\n",
      "15000/15000 [==============================] - 15s 982us/step - loss: 5.1305 - val_loss: 14.2363\n",
      "Epoch 9/20\n",
      "15000/15000 [==============================] - 14s 961us/step - loss: 5.0011 - val_loss: 14.2175\n",
      "Epoch 10/20\n",
      "15000/15000 [==============================] - 14s 930us/step - loss: 4.8712 - val_loss: 14.1968\n",
      "Epoch 11/20\n",
      "15000/15000 [==============================] - 15s 968us/step - loss: 4.7345 - val_loss: 14.1769\n",
      "Epoch 12/20\n",
      "15000/15000 [==============================] - 14s 927us/step - loss: 4.5871 - val_loss: 14.1566\n",
      "Epoch 13/20\n",
      "15000/15000 [==============================] - 14s 929us/step - loss: 4.4357 - val_loss: 14.1362\n",
      "Epoch 14/20\n",
      "15000/15000 [==============================] - 14s 947us/step - loss: 4.2872 - val_loss: 14.1171\n",
      "Epoch 15/20\n",
      "15000/15000 [==============================] - 14s 931us/step - loss: 4.1390 - val_loss: 14.0994\n",
      "Epoch 16/20\n",
      "15000/15000 [==============================] - 15s 999us/step - loss: 3.9961 - val_loss: 14.0836\n",
      "Epoch 17/20\n",
      "15000/15000 [==============================] - 15s 1ms/step - loss: 3.8598 - val_loss: 14.0680\n",
      "Epoch 18/20\n",
      "15000/15000 [==============================] - 16s 1ms/step - loss: 3.7361 - val_loss: 14.0566\n",
      "Epoch 19/20\n",
      "15000/15000 [==============================] - 15s 972us/step - loss: 3.6115 - val_loss: 14.0440\n",
      "Epoch 20/20\n",
      "15000/15000 [==============================] - 14s 940us/step - loss: 3.4958 - val_loss: 14.0322\n"
     ]
    }
   ],
   "source": [
    "model.compile(optimizer='adam', loss='sparse_categorical_crossentropy', sample_weight_mode='temporal')\n",
    "history_k = model.fit(X_train_tfidf, Y_train, epochs=20, batch_size=256,validation_data=(X_val_tfidf, Y_val), sample_weight = sample_weight, verbose=1)"
   ]
  },
  {
   "cell_type": "code",
   "execution_count": 83,
   "metadata": {},
   "outputs": [
    {
     "data": {
      "image/png": "[encoded data removed]",
      "text/plain": [
       "<Figure size 1440x360 with 1 Axes>"
      ]
     },
     "metadata": {
      "needs_background": "light"
     },
     "output_type": "display_data"
    }
   ],
   "source": [
    "chart_loss(history_I, 20, \"K\")"
   ]
  },
  {
   "cell_type": "code",
   "execution_count": 84,
   "metadata": {},
   "outputs": [
    {
     "name": "stdout",
     "output_type": "stream",
     "text": [
      "Texto source:  this tv was made in china\n",
      "Texto target real:  este fue en china #end\n",
      "Texto target predicho:  la la la la la la #end\n",
      "\n",
      "\n",
      "Texto source:  he has taken all this trouble for nothing\n",
      "Texto target real:  se ha tomado tantas para nada #end\n",
      "Texto target predicho:  no no nada nada nada nada #end\n",
      "\n",
      "\n",
      "Texto source:  i am laughing at you\n",
      "Texto target real:  me estoy riendo de ti #end\n",
      "Texto target predicho:  estoy estoy #end\n",
      "\n",
      "\n",
      "Texto source:  i believe in\n",
      "Texto target real:  creo en el destino #end\n",
      "Texto target predicho:  creo que en #end\n",
      "\n",
      "\n",
      "Texto source:  i hate his parents\n",
      "Texto target real:  odio a sus padres #end\n",
      "Texto target predicho:  me padres padres padres #end\n",
      "\n",
      "\n"
     ]
    }
   ],
   "source": [
    "def show_predictions_2(model, number_of_examples = 5):\n",
    "    n_s = number_of_examples\n",
    "    idx = np.random.choice(np.arange(Y_val.shape[0]), size=n_s, replace=False)\n",
    "    Y_pred = model.predict_classes(X_val_tfidf[idx] )\n",
    "    for i, n_sampled in enumerate(idx):\n",
    "        text_input = [idx2word_s[p] for p in predict_words(X_val[n_sampled], data=\"source\")]\n",
    "        print(\"Texto source: \", ' '.join(text_input))\n",
    "        text_real = [idx2word_t[p] for p in predict_words(Y_val[n_sampled,:,0], data=\"target\")]\n",
    "        print(\"Texto target real: \", ' '.join( text_real))\n",
    "        text_sampled = [idx2word_t[p] for p in predict_words(Y_pred[i], data=\"target\")]\n",
    "        print(\"Texto target predicho: \", ' '.join(text_sampled))\n",
    "        print('\\n')\n",
    "show_predictions_2(model)"
   ]
  },
  {
   "cell_type": "code",
   "execution_count": null,
   "metadata": {},
   "outputs": [],
   "source": []
  }
 ],
 "metadata": {
  "kernelspec": {
   "display_name": "Python 3",
   "language": "python",
   "name": "python3"
  },
  "language_info": {
   "codemirror_mode": {
    "name": "ipython",
    "version": 3
   },
   "file_extension": ".py",
   "mimetype": "text/x-python",
   "name": "python",
   "nbconvert_exporter": "python",
   "pygments_lexer": "ipython3",
   "version": "3.6.8"
  }
 },
 "nbformat": 4,
 "nbformat_minor": 2
}
